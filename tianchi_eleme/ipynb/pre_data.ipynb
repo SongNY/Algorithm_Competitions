{
 "cells": [
  {
   "cell_type": "code",
   "execution_count": 17,
   "metadata": {},
   "outputs": [],
   "source": [
    "import pandas as pd\n",
    "import numpy as np\n",
    "import os\n",
    "from joblib import Parallel, delayed\n",
    "from tqdm import tqdm\n",
    "import matplotlib.pyplot as plt\n",
    "\n",
    "pd.set_option('display.max_rows', 200)\n",
    "pd.set_option('display.max_columns', 200)"
   ]
  },
  {
   "cell_type": "code",
   "execution_count": null,
   "metadata": {},
   "outputs": [],
   "source": []
  },
  {
   "cell_type": "code",
   "execution_count": 2,
   "metadata": {},
   "outputs": [],
   "source": [
    "df_history_action = pd.read_pickle('./temp/action_history.plk')\n",
    "df_feature = pd.read_pickle('./temp/base_feature.plk')\n",
    "df_courier = pd.read_pickle('./temp/courier.plk')\n",
    "df_order = pd.read_pickle('./temp/order.plk')\n",
    "df_distance = pd.read_pickle('./temp/distance.plk')"
   ]
  },
  {
   "cell_type": "code",
   "execution_count": 3,
   "metadata": {},
   "outputs": [],
   "source": [
    "train_path = './raw_data/eleme_round1_train_20200313'\n",
    "test_path = './raw_data/eleme_round1_testA_20200313'\n",
    "testB_path = './raw_data/eleme_round1_testB_20200413'"
   ]
  },
  {
   "cell_type": "code",
   "execution_count": 28,
   "metadata": {},
   "outputs": [],
   "source": [
    "courier_list = []\n",
    "# courier 数据\n",
    "for f in os.listdir(os.path.join(train_path, 'courier')):\n",
    "    date = f.split('.')[0].split('_')[1]\n",
    "    df = pd.read_csv(os.path.join(train_path, 'courier', f))\n",
    "    df['date'] = date\n",
    "    df['type'] = 'train'\n",
    "    courier_list.append(df)\n",
    "\n",
    "for f in os.listdir(os.path.join(test_path, 'courier')):\n",
    "    date = f.split('.')[0].split('_')[1]\n",
    "    df = pd.read_csv(os.path.join(test_path, 'courier', f))\n",
    "    df['date'] = date\n",
    "    df['type'] = 'testA'\n",
    "    courier_list.append(df)\n",
    "\n",
    "for f in os.listdir(os.path.join(testB_path, 'courier')):\n",
    "    date = f.split('.')[0].split('_')[1]\n",
    "    df = pd.read_csv(os.path.join(testB_path, 'courier', f))\n",
    "    df['date'] = date\n",
    "    df['type'] = 'testB'\n",
    "    courier_list.append(df)\n",
    "\n",
    "df_courier = pd.concat(courier_list, sort=False)\n",
    "df_courier.to_pickle('./temp/courier.plk')"
   ]
  },
  {
   "cell_type": "code",
   "execution_count": 29,
   "metadata": {},
   "outputs": [],
   "source": [
    "order_list = []\n",
    "# order 数据\n",
    "for f in os.listdir(os.path.join(train_path, 'order')):\n",
    "    date = f.split('.')[0].split('_')[1]\n",
    "    df = pd.read_csv(os.path.join(train_path, 'order', f))\n",
    "    df['date'] = date\n",
    "    df['type'] = 'train'\n",
    "    order_list.append(df)\n",
    "\n",
    "for f in os.listdir(os.path.join(test_path, 'order')):\n",
    "    date = f.split('.')[0].split('_')[1]\n",
    "    df = pd.read_csv(os.path.join(test_path, 'order', f))\n",
    "    df['date'] = date\n",
    "    df['type'] = 'testA'\n",
    "    order_list.append(df)\n",
    "\n",
    "for f in os.listdir(os.path.join(testB_path, 'order')):\n",
    "    date = f.split('.')[0].split('_')[1]\n",
    "    df = pd.read_csv(os.path.join(testB_path, 'order', f))\n",
    "    df['date'] = date\n",
    "    df['type'] = 'testB'\n",
    "    order_list.append(df)\n",
    "\n",
    "df_order = pd.concat(order_list, sort=False)\n",
    "df_order.to_pickle('./temp/order.plk')"
   ]
  },
  {
   "cell_type": "code",
   "execution_count": 30,
   "metadata": {},
   "outputs": [],
   "source": [
    "distance_list = []\n",
    "# distance 数据\n",
    "for f in os.listdir(os.path.join(train_path, 'distance')):\n",
    "    date = f.split('.')[0].split('_')[1]\n",
    "    df = pd.read_csv(os.path.join(train_path, 'distance', f))\n",
    "    df['date'] = date\n",
    "    df['type'] = 'train'\n",
    "    distance_list.append(df)\n",
    "\n",
    "for f in os.listdir(os.path.join(test_path, 'distance')):\n",
    "    date = f.split('.')[0].split('_')[1]\n",
    "    df = pd.read_csv(os.path.join(test_path, 'distance', f))\n",
    "    df['date'] = date\n",
    "    df['type'] = 'testA'\n",
    "    distance_list.append(df)\n",
    "\n",
    "for f in os.listdir(os.path.join(testB_path, 'distance')):\n",
    "    date = f.split('.')[0].split('_')[1]\n",
    "    df = pd.read_csv(os.path.join(testB_path, 'distance', f))\n",
    "    df['date'] = date\n",
    "    df['type'] = 'testB'\n",
    "    distance_list.append(df)\n",
    "\n",
    "df_distance = pd.concat(distance_list, sort=False)\n",
    "df_distance['group'] = df_distance['date'].astype(\n",
    "    'str') + df_distance['courier_id'].astype('str') + df_distance['wave_index'].astype('str')\n",
    "df_distance.to_pickle('./temp/distance.plk')"
   ]
  },
  {
   "cell_type": "code",
   "execution_count": null,
   "metadata": {},
   "outputs": [],
   "source": [
    "df_actions = []\n",
    "for f in os.listdir(os.path.join(train_path, 'action')):\n",
    "    date = f.split('.')[0].split('_')[1]\n",
    "    df = pd.read_csv(os.path.join(train_path, 'action', f))\n",
    "    df['date'] = date\n",
    "    df['type'] = 'train'\n",
    "    df_actions.append(df)\n",
    "\n",
    "for f in os.listdir(os.path.join(test_path, 'action')):\n",
    "    date = f.split('.')[0].split('_')[1]\n",
    "    df = pd.read_csv(os.path.join(test_path, 'action', f))\n",
    "    df['date'] = date\n",
    "    df['type'] = 'testA'\n",
    "    df_actions.append(df)\n",
    "\n",
    "for f in os.listdir(os.path.join(testB_path, 'action')):\n",
    "    date = f.split('.')[0].split('_')[1]\n",
    "    df = pd.read_csv(os.path.join(testB_path, 'action', f))\n",
    "    df['date'] = date\n",
    "    df['type'] = 'testB'\n",
    "    df_actions.append(df)"
   ]
  },
  {
   "cell_type": "code",
   "execution_count": 23,
   "metadata": {},
   "outputs": [],
   "source": [
    "ratio = 0.5\n",
    "\n",
    "def read_feat(df):\n",
    "    label_list = []\n",
    "    history_list = []\n",
    "    type = df['type'].values[0]\n",
    "\n",
    "    # 划分数据集\n",
    "    groups = df.groupby(['courier_id', 'wave_index'])\n",
    "    for name, group in tqdm(groups):\n",
    "        if type == 'train':\n",
    "            if group.shape[0]==4:\n",
    "                label_data = group.tail(int(group.shape[0]-1))\n",
    "                history_data = group.drop(label_data.index)\n",
    "            else:\n",
    "                label_data = group.tail(int(group.shape[0] * ratio))\n",
    "                history_data = group.drop(label_data.index)\n",
    "\n",
    "            # 第一个数据为正样本，其余为负样本\n",
    "            label_data['target'] = 0\n",
    "            label_data.reset_index(drop=True, inplace=True)\n",
    "            label_data.loc[0, 'target'] = 1\n",
    "            label_list.append(label_data)\n",
    "            history_list.append(history_data)\n",
    "        else:\n",
    "            label_data = group[group['expect_time'] == 0]\n",
    "            history_data = group.drop(label_data.index)\n",
    "\n",
    "            label_data['target'] = None\n",
    "            label_list.append(label_data)\n",
    "            history_list.append(history_data)\n",
    "\n",
    "    return pd.concat(label_list, sort=False), pd.concat(history_list, sort=False)"
   ]
  },
  {
   "cell_type": "code",
   "execution_count": 24,
   "metadata": {},
   "outputs": [
    {
     "name": "stderr",
     "output_type": "stream",
     "text": [
      "100%|██████████| 41/41 [00:22<00:00,  1.80it/s]\n"
     ]
    }
   ],
   "source": [
    "res = Parallel(n_jobs=12)(delayed(read_feat)(df) for df in tqdm(df_actions))\n",
    "df_feature = [item[0] for item in res]\n",
    "df_history = [item[1] for item in res]\n",
    "\n",
    "df_feature = pd.concat(df_feature, sort=False)\n",
    "df_history = pd.concat(df_history, sort=False)"
   ]
  },
  {
   "cell_type": "code",
   "execution_count": 25,
   "metadata": {},
   "outputs": [],
   "source": [
    "df_feature['group'] = df_feature['date'].astype(\n",
    "    'str') + df_feature['courier_id'].astype('str') + df_feature['wave_index'].astype('str')\n",
    "df_history['group'] = df_history['date'].astype(\n",
    "    'str') + df_history['courier_id'].astype('str') + df_history['wave_index'].astype('str')\n",
    "df_feature['target'] = df_feature['target'].astype('float')\n",
    "df_feature['id'] = range(df_feature.shape[0])"
   ]
  },
  {
   "cell_type": "code",
   "execution_count": 26,
   "metadata": {},
   "outputs": [],
   "source": [
    "df_history.to_pickle('./temp/action_history_f.plk')\n",
    "df_feature.to_pickle('./temp/base_feature_f.plk')"
   ]
  },
  {
   "cell_type": "code",
   "execution_count": null,
   "metadata": {},
   "outputs": [],
   "source": []
  },
  {
   "cell_type": "code",
   "execution_count": null,
   "metadata": {},
   "outputs": [],
   "source": []
  },
  {
   "cell_type": "code",
   "execution_count": null,
   "metadata": {},
   "outputs": [],
   "source": [
    "# sum_list=pd.DataFrame()\n",
    "# for i in range(35,41):\n",
    "#     a=pd.DataFrame(df_actions[i].groupby(['courier_id','wave_index']).apply(lambda x:[x['date'].values[0],sum(x['expect_time']==0),sum(x['expect_time']==0)/len(x)]).values.tolist())\n",
    "#     sum_list=pd.concat([sum_list,a])\n",
    "# sum_list=sum_list.sort_values([0])\n",
    "# sum_list.groupby([2]).size()\n",
    "# sum_list.groupby([1]).size()\n",
    "# sum_list.groupby([1,2]).size()"
   ]
  },
  {
   "cell_type": "code",
   "execution_count": 19,
   "metadata": {},
   "outputs": [
    {
     "name": "stdout",
     "output_type": "stream",
     "text": [
      "0.5470011247199419 0.125\n"
     ]
    },
    {
     "data": {
      "text/plain": [
       "(array([  64.,  141.,  279.,  509., 1112.,   81., 1564.,   95.,  312.,\n",
       "          36.]),\n",
       " array([0.125 , 0.2025, 0.28  , 0.3575, 0.435 , 0.5125, 0.59  , 0.6675,\n",
       "        0.745 , 0.8225, 0.9   ]),\n",
       " <a list of 10 Patch objects>)"
      ]
     },
     "execution_count": 19,
     "metadata": {},
     "output_type": "execute_result"
    },
    {
     "data": {
      "image/png": "[encoded data removed]",
      "text/plain": [
       "<Figure size 432x288 with 1 Axes>"
      ]
     },
     "metadata": {
      "needs_background": "light"
     },
     "output_type": "display_data"
    }
   ],
   "source": [
    "print(sum_list[2].mean(),sum_list[2].min())\n",
    "plt.hist(sum_list[2])"
   ]
  },
  {
   "cell_type": "code",
   "execution_count": 20,
   "metadata": {},
   "outputs": [
    {
     "name": "stdout",
     "output_type": "stream",
     "text": [
      "4.6775578344860484 3\n"
     ]
    },
    {
     "data": {
      "text/plain": [
       "(array([2.698e+03, 9.780e+02, 3.220e+02, 1.260e+02, 3.200e+01, 2.200e+01,\n",
       "        1.000e+01, 1.000e+00, 2.000e+00, 2.000e+00]),\n",
       " array([ 3. ,  4.8,  6.6,  8.4, 10.2, 12. , 13.8, 15.6, 17.4, 19.2, 21. ]),\n",
       " <a list of 10 Patch objects>)"
      ]
     },
     "execution_count": 20,
     "metadata": {},
     "output_type": "execute_result"
    },
    {
     "data": {
      "image/png": "[encoded data removed]",
      "text/plain": [
       "<Figure size 432x288 with 1 Axes>"
      ]
     },
     "metadata": {
      "needs_background": "light"
     },
     "output_type": "display_data"
    }
   ],
   "source": [
    "print(sum_list[1].mean(),sum_list[1].min())\n",
    "plt.hist(sum_list[1])"
   ]
  },
  {
   "cell_type": "code",
   "execution_count": 22,
   "metadata": {},
   "outputs": [
    {
     "data": {
      "text/plain": [
       "courier_id\n",
       "10007871     20\n",
       "10012191     34\n",
       "10012508     27\n",
       "10021791     41\n",
       "10037225     25\n",
       "             ..\n",
       "125775258    21\n",
       "125779698    22\n",
       "125812730    22\n",
       "125864962     4\n",
       "125996858    20\n",
       "Length: 920, dtype: int64"
      ]
     },
     "execution_count": 22,
     "metadata": {},
     "output_type": "execute_result"
    }
   ],
   "source": [
    "df_order.groupby('courier_id').size()"
   ]
  },
  {
   "cell_type": "code",
   "execution_count": 40,
   "metadata": {},
   "outputs": [
    {
     "data": {
      "text/plain": [
       "group\n",
       "202003011000025433    5\n",
       "202003011000069503    4\n",
       "202003011000236981    5\n",
       "202003011000766511    7\n",
       "202003011000766513    4\n",
       "                     ..\n",
       "202003061249814090    5\n",
       "202003061251023610    4\n",
       "202003061251191690    5\n",
       "202003061255524980    6\n",
       "202003061257752580    6\n",
       "Length: 4193, dtype: int64"
      ]
     },
     "execution_count": 40,
     "metadata": {},
     "output_type": "execute_result"
    }
   ],
   "source": [
    "df_feature[df_feature['type']=='testB'].groupby(['group']).size()"
   ]
  },
  {
   "cell_type": "code",
   "execution_count": 38,
   "metadata": {},
   "outputs": [
    {
     "data": {
      "text/plain": [
       "group\n",
       "202002011000025430    train\n",
       "202002011000025431    train\n",
       "202002011000025432    train\n",
       "202002011000026520    train\n",
       "202002011000026521    train\n",
       "                      ...  \n",
       "202003061251552411    testA\n",
       "202003061255524980    testB\n",
       "202003061257752580    testB\n",
       "202003061257796981    testA\n",
       "202003061258127301    testA\n",
       "Name: type, Length: 90945, dtype: object"
      ]
     },
     "execution_count": 38,
     "metadata": {},
     "output_type": "execute_result"
    }
   ],
   "source": [
    "df_feature.groupby('group')['type'].first()"
   ]
  },
  {
   "cell_type": "code",
   "execution_count": 27,
   "metadata": {},
   "outputs": [
    {
     "data": {
      "text/plain": [
       "(array([66922.,  5561.,  3511.,  2150.,  1501.,  1630.,   430.,   318.,\n",
       "          237.,   273.]),\n",
       " array([ 3. ,  4.2,  5.4,  6.6,  7.8,  9. , 10.2, 11.4, 12.6, 13.8, 15. ]),\n",
       " <a list of 10 Patch objects>)"
      ]
     },
     "execution_count": 27,
     "metadata": {},
     "output_type": "execute_result"
    },
    {
     "data": {
      "image/png": "[encoded data removed]",
      "text/plain": [
       "<Figure size 432x288 with 1 Axes>"
      ]
     },
     "metadata": {
      "needs_background": "light"
     },
     "output_type": "display_data"
    }
   ],
   "source": [
    "plt.hist(df_feature[df_feature['type']=='train'].groupby(['group']).size())"
   ]
  },
  {
   "cell_type": "code",
   "execution_count": 5,
   "metadata": {},
   "outputs": [
    {
     "data": {
      "text/plain": [
       "(array([2.698e+03, 9.780e+02, 3.220e+02, 1.260e+02, 3.200e+01, 2.200e+01,\n",
       "        1.000e+01, 1.000e+00, 2.000e+00, 2.000e+00]),\n",
       " array([ 3. ,  4.8,  6.6,  8.4, 10.2, 12. , 13.8, 15.6, 17.4, 19.2, 21. ]),\n",
       " <a list of 10 Patch objects>)"
      ]
     },
     "execution_count": 5,
     "metadata": {},
     "output_type": "execute_result"
    },
    {
     "data": {
      "image/png": "[encoded data removed]",
      "text/plain": [
       "<Figure size 432x288 with 1 Axes>"
      ]
     },
     "metadata": {
      "needs_background": "light"
     },
     "output_type": "display_data"
    }
   ],
   "source": [
    "plt.hist(df_feature[df_feature['type']=='testB'].groupby(['group']).size())"
   ]
  },
  {
   "cell_type": "code",
   "execution_count": null,
   "metadata": {},
   "outputs": [],
   "source": []
  },
  {
   "cell_type": "code",
   "execution_count": null,
   "metadata": {},
   "outputs": [],
   "source": []
  }
 ],
 "metadata": {
  "kernelspec": {
   "display_name": "Python 3",
   "language": "python",
   "name": "python3"
  },
  "language_info": {
   "codemirror_mode": {
    "name": "ipython",
    "version": 3
   },
   "file_extension": ".py",
   "mimetype": "text/x-python",
   "name": "python",
   "nbconvert_exporter": "python",
   "pygments_lexer": "ipython3",
   "version": "3.7.5"
  }
 },
 "nbformat": 4,
 "nbformat_minor": 4
}
