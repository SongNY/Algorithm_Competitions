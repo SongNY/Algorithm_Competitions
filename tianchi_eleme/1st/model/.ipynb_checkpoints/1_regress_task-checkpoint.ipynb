{
 "cells": [
  {
   "cell_type": "code",
   "execution_count": 1,
   "metadata": {},
   "outputs": [],
   "source": [
    "from IPython.display import display, HTML\n",
    "def show_df(df):\n",
    "    display(HTML(df.to_html()))\n",
    "\n",
    "import logging\n",
    "LOG_FORMAT = \"%(asctime)s - %(levelname)s - %(message)s\"\n",
    "# logging.basicConfig(level=logging.INFO, filename='log_Model', format=LOG_FORMAT)\n",
    "logging.basicConfig(level=logging.INFO, format=LOG_FORMAT)\n",
    "\n",
    "import pandas as pd\n",
    "import numpy as np\n",
    "import time\n",
    "import datetime\n",
    "import pickle\n",
    "import random\n",
    "import os\n",
    "os.environ[\"CUDA_VISIBLE_DEVICES\"] = \"2, 3, 4\"\n",
    "import pickle"
   ]
  },
  {
   "cell_type": "code",
   "execution_count": 2,
   "metadata": {},
   "outputs": [],
   "source": [
    "VAL_POINT = 65623"
   ]
  },
  {
   "cell_type": "markdown",
   "metadata": {},
   "source": [
    "#  Read"
   ]
  },
  {
   "cell_type": "code",
   "execution_count": 3,
   "metadata": {},
   "outputs": [],
   "source": [
    "# pickle_path = '../user_data/pairwise_gbdt_agg/df_features_train.pickle'\n",
    "# with open(pickle_path, 'rb') as f:\n",
    "#     df_features_train = pickle.load(f)\n",
    "pickle_path = '../user_data/df_feature_test/df_features_testA.pickle'\n",
    "with open(pickle_path, 'rb') as f:\n",
    "    df_features_testA = pickle.load(f)"
   ]
  },
  {
   "cell_type": "code",
   "execution_count": 31,
   "metadata": {},
   "outputs": [],
   "source": [
    "pickle_path = '../user_data/df_feature_test/df_features_testB.pickle'\n",
    "with open(pickle_path, 'rb') as f:\n",
    "    df_features_testB = pickle.load(f)"
   ]
  },
  {
   "cell_type": "code",
   "execution_count": 4,
   "metadata": {},
   "outputs": [],
   "source": [
    "def read_arugment_data_train():\n",
    "    part = 32\n",
    "    len_key_list = 82533\n",
    "    \n",
    "    df_feature_train_list = []\n",
    "    for i in range(0, len_key_list, int(len_key_list / part)):\n",
    "        start, end = i, i + int(len_key_list / part)\n",
    "        end = min(end, len_key_list)\n",
    "        pickle_path = '../user_data/df_feature_train/df_feature_train_%d_%d.pickle' % (start, end)\n",
    "        with open(pickle_path, 'rb') as f:\n",
    "            df_feature_train_part = pickle.load(f)\n",
    "            df_feature_train_part['origin_i'] += start\n",
    "            df_feature_train_list.append(df_feature_train_part)\n",
    "    df_features_train = pd.concat(df_feature_train_list)\n",
    "    df_features_train = df_features_train.sort_values(by = ['origin_i', 'know_lens', 'target_position',])\n",
    "    df_features_train.index = range(df_features_train.shape[0])\n",
    "    \n",
    "    return df_features_train\n",
    "df_features_train_arugment = read_arugment_data_train()"
   ]
  },
  {
   "cell_type": "code",
   "execution_count": 9,
   "metadata": {},
   "outputs": [
    {
     "data": {
      "text/plain": [
       "((204314, 247), (855197, 181))"
      ]
     },
     "execution_count": 9,
     "metadata": {},
     "output_type": "execute_result"
    }
   ],
   "source": [
    "df_features_train.shape, df_features_train_arugment.shape"
   ]
  },
  {
   "cell_type": "markdown",
   "metadata": {},
   "source": [
    "# Model"
   ]
  },
  {
   "cell_type": "markdown",
   "metadata": {},
   "source": [
    "## train argument sample build"
   ]
  },
  {
   "cell_type": "code",
   "execution_count": 12,
   "metadata": {},
   "outputs": [],
   "source": [
    "df_features_train_arugment['choose_position'] = df_features_train_arugment['know_lens']"
   ]
  },
  {
   "cell_type": "code",
   "execution_count": 20,
   "metadata": {},
   "outputs": [
    {
     "name": "stderr",
     "output_type": "stream",
     "text": [
      "2020-04-14 08:52:31,509 - INFO - regression argument feature len: 178.000000\n",
      "2020-04-14 09:34:34,423 - INFO - finish building regression argument feature\n"
     ]
    }
   ],
   "source": [
    "not_features = ['origin_i', 'target_position', 'cur_action_expect_time', 'choose_position']\n",
    "reg_features_name = list( set(df_features_train_arugment.columns) - set(not_features))\n",
    "len_features_name = len(reg_features_name)\n",
    "logging.info('regression argument feature len: %f' % len_features_name)\n",
    "\n",
    "def apply_argument_regress_sample(df):\n",
    "    df_choose_rows = df.query('target_position == choose_position')\n",
    "    df_choose_rows['label'] = df_choose_rows['cur_action_expect_time'] - df_choose_rows['last_action_expect_time']\n",
    "    return df_choose_rows[reg_features_name + ['label']]\n",
    "df_regress_train_argument = df_features_train_arugment.groupby('origin_i').apply(apply_argument_regress_sample)\n",
    "logging.info('finish building regression argument feature')"
   ]
  },
  {
   "cell_type": "code",
   "execution_count": 22,
   "metadata": {},
   "outputs": [],
   "source": [
    "pickle_path = '../user_data/regress_task/df_regress_train_argument.pickle'\n",
    "with open(pickle_path, 'wb') as f:\n",
    "    pickle.dump(df_regress_train_argument, f)\n"
   ]
  },
  {
   "cell_type": "code",
   "execution_count": 32,
   "metadata": {},
   "outputs": [],
   "source": [
    "pickle_path = '../user_data/makepair_gbdt/testB_choose_idxs.pickle'\n",
    "with open(pickle_path, 'rb') as f:\n",
    "    testB_choose_idxs = pickle.load(f)\n",
    "\n",
    "df_features_testB['choose_position'] = df_features_testB['origin_i'].map(lambda x : testB_choose_idxs[x])"
   ]
  },
  {
   "cell_type": "code",
   "execution_count": 33,
   "metadata": {},
   "outputs": [],
   "source": [
    "def apply_regress_sample(df):\n",
    "    df_choose_rows = df.query('target_position == choose_position')\n",
    "    df_choose_rows['label'] = df_choose_rows['cur_action_expect_time'] - df_choose_rows['last_action_expect_time']\n",
    "    return df_choose_rows[reg_features_name + ['label']]\n",
    "df_regress_testB = df_features_testB.groupby('origin_i').apply(apply_regress_sample)"
   ]
  },
  {
   "cell_type": "markdown",
   "metadata": {},
   "source": [
    "## train sample build"
   ]
  },
  {
   "cell_type": "code",
   "execution_count": 6,
   "metadata": {},
   "outputs": [],
   "source": [
    "pickle_path = '../user_data/makepair_gbdt/testA_choose_idxs.pickle'\n",
    "with open(pickle_path, 'rb') as f:\n",
    "    testA_choose_idxs = pickle.load(f)\n",
    "\n",
    "# df_features_train['choose_position'] = df_features_train['know_lens']\n",
    "df_features_testA['choose_position'] = df_features_testA['origin_i'].map(lambda x : testA_choose_idxs[x])"
   ]
  },
  {
   "cell_type": "code",
   "execution_count": 7,
   "metadata": {},
   "outputs": [
    {
     "name": "stderr",
     "output_type": "stream",
     "text": [
      "2020-04-11 19:23:16,557 - INFO - regression feature len: 244.000000\n",
      "2020-04-11 19:23:16,559 - INFO - start building df_features_train\n",
      "2020-04-11 19:50:25,034 - INFO - finish building df_features_train\n"
     ]
    }
   ],
   "source": [
    "not_features = ['origin_i', 'target_position', 'cur_action_expect_time', 'choose_position']\n",
    "reg_features_name = list( set(df_features_train.columns) - set(not_features))\n",
    "len_features_name = len(reg_features_name)\n",
    "logging.info('regression feature len: %f' % len_features_name)\n",
    "def apply_regress_sample(df):\n",
    "    df_choose_rows = df.query('target_position == choose_position')\n",
    "    df_choose_rows['label'] = df_choose_rows['cur_action_expect_time'] - df_choose_rows['last_action_expect_time']\n",
    "    return df_choose_rows[reg_features_name + ['label']]\n",
    "\n",
    "logging.info('start building df_features_train')\n",
    "# df_regress_train = df_features_train.groupby('origin_i').apply(apply_regress_sample)\n",
    "df_regress_testA = df_features_testA.groupby('origin_i').apply(apply_regress_sample)\n",
    "logging.info('finish building df_features_train')"
   ]
  },
  {
   "cell_type": "markdown",
   "metadata": {},
   "source": [
    "## val"
   ]
  },
  {
   "cell_type": "code",
   "execution_count": 56,
   "metadata": {},
   "outputs": [],
   "source": [
    "import lightgbm as lgb\n",
    "from sklearn import metrics\n",
    "from sklearn import model_selection\n",
    "\n",
    "\n",
    "np.random.seed(42)\n",
    "\n",
    "model_parms = {\n",
    "#     'objective' : 'regression',\n",
    "    'objective' : 'regression_l1',\n",
    "    'max_depth' : 6,\n",
    "    'num_leaves' : 48,\n",
    "    'learning_rate' : 0.01,\n",
    "    'boosting': 'gbdt',\n",
    "    'metric': 'l1' ,\n",
    "    'bagging_fraction':0.1,\n",
    "    'feature_fraction': 0.8,\n",
    "    'random_state' : np.random.randint(10e6)\n",
    "}\n",
    "\n",
    "def train_with_df(df_regress_train, learning_rate = 0.01, epoch = 5000, val_mode = True):\n",
    "    model_parms['learning_rate'] = learning_rate\n",
    "    df_regress_train = df_regress_train.copy().reset_index(1)\n",
    "    if val_mode:\n",
    "        df_train = df_regress_train[df_regress_train.index < VAL_POINT]\n",
    "        trn_data = lgb.Dataset(df_train[reg_features_name], label=df_train['label'])\n",
    "        \n",
    "        df_val = df_regress_train[df_regress_train.index >= VAL_POINT]\n",
    "        val_data = lgb.Dataset(df_val[reg_features_name], label=df_val['label'])\n",
    "        \n",
    "        valid_sets = [trn_data, val_data]\n",
    "    else:\n",
    "        df_train = df_regress_train\n",
    "        trn_data = lgb.Dataset(df_train[reg_features_name], label=df_train['label'])\n",
    "        valid_sets = [trn_data, ]\n",
    "\n",
    "    logging.info('start training')\n",
    "    model = lgb.train(model_parms, trn_data, epoch, valid_sets = valid_sets, verbose_eval=1000, early_stopping_rounds=1000)\n",
    "    logging.info('finish training')\n",
    "    \n",
    "    return model"
   ]
  },
  {
   "cell_type": "markdown",
   "metadata": {},
   "source": [
    "### argument"
   ]
  },
  {
   "cell_type": "code",
   "execution_count": 43,
   "metadata": {
    "scrolled": true
   },
   "outputs": [
    {
     "name": "stderr",
     "output_type": "stream",
     "text": [
      "2020-04-14 14:49:11,017 - INFO - start training\n"
     ]
    },
    {
     "name": "stdout",
     "output_type": "stream",
     "text": [
      "Training until validation scores don't improve for 1000 rounds\n",
      "[1000]\ttraining's l1: 119.876\tvalid_1's l1: 123.6\n",
      "[2000]\ttraining's l1: 113.855\tvalid_1's l1: 123.632\n",
      "Early stopping, best iteration is:\n",
      "[1647]\ttraining's l1: 115.504\tvalid_1's l1: 123.513\n"
     ]
    },
    {
     "name": "stderr",
     "output_type": "stream",
     "text": [
      "2020-04-14 15:06:10,422 - INFO - finish training\n"
     ]
    }
   ],
   "source": [
    "# model = train_with_df(df_regress_train_argument, 0.1, 5000)"
   ]
  },
  {
   "cell_type": "markdown",
   "metadata": {},
   "source": [
    "### normal"
   ]
  },
  {
   "cell_type": "code",
   "execution_count": 21,
   "metadata": {},
   "outputs": [
    {
     "name": "stderr",
     "output_type": "stream",
     "text": [
      "2020-04-11 20:08:25,924 - INFO - start training\n"
     ]
    },
    {
     "name": "stdout",
     "output_type": "stream",
     "text": [
      "Training until validation scores don't improve for 1000 rounds\n",
      "[1000]\ttraining's l1: 136.563\tvalid_1's l1: 132.779\n",
      "[2000]\ttraining's l1: 130.378\tvalid_1's l1: 131.679\n",
      "[3000]\ttraining's l1: 127.378\tvalid_1's l1: 131.487\n",
      "[4000]\ttraining's l1: 125.359\tvalid_1's l1: 131.452\n",
      "[5000]\ttraining's l1: 124.045\tvalid_1's l1: 131.401\n",
      "[6000]\ttraining's l1: 121.957\tvalid_1's l1: 131.29\n",
      "[7000]\ttraining's l1: 120.643\tvalid_1's l1: 131.263\n",
      "[8000]\ttraining's l1: 119.396\tvalid_1's l1: 131.251\n",
      "[9000]\ttraining's l1: 117.972\tvalid_1's l1: 131.185\n",
      "[10000]\ttraining's l1: 116.985\tvalid_1's l1: 131.177\n",
      "Did not meet early stopping. Best iteration is:\n",
      "[10000]\ttraining's l1: 116.985\tvalid_1's l1: 131.177\n"
     ]
    },
    {
     "name": "stderr",
     "output_type": "stream",
     "text": [
      "2020-04-11 20:10:45,567 - INFO - finish training\n"
     ]
    }
   ],
   "source": [
    "# model = train_with_df(df_regress_train)"
   ]
  },
  {
   "cell_type": "markdown",
   "metadata": {},
   "source": [
    "## Test"
   ]
  },
  {
   "cell_type": "markdown",
   "metadata": {},
   "source": [
    "### testA"
   ]
  },
  {
   "cell_type": "code",
   "execution_count": 25,
   "metadata": {},
   "outputs": [
    {
     "name": "stderr",
     "output_type": "stream",
     "text": [
      "2020-04-11 20:14:28,152 - INFO - start training\n"
     ]
    },
    {
     "name": "stdout",
     "output_type": "stream",
     "text": [
      "Training until validation scores don't improve for 1000 rounds\n",
      "[1000]\ttraining's l1: 135.288\n",
      "[2000]\ttraining's l1: 129.423\n",
      "[3000]\ttraining's l1: 126.667\n",
      "[4000]\ttraining's l1: 124.585\n",
      "[5000]\ttraining's l1: 123.19\n",
      "[6000]\ttraining's l1: 121.741\n",
      "[7000]\ttraining's l1: 120.825\n",
      "[8000]\ttraining's l1: 119.769\n",
      "[9000]\ttraining's l1: 119.07\n",
      "[10000]\ttraining's l1: 118.476\n",
      "[11000]\ttraining's l1: 117.697\n",
      "[12000]\ttraining's l1: 116.74\n",
      "[13000]\ttraining's l1: 115.801\n",
      "[14000]\ttraining's l1: 115.029\n",
      "[15000]\ttraining's l1: 114.381\n",
      "[16000]\ttraining's l1: 113.714\n",
      "[17000]\ttraining's l1: 113.105\n",
      "[18000]\ttraining's l1: 112.719\n",
      "[19000]\ttraining's l1: 112.324\n",
      "[20000]\ttraining's l1: 111.868\n",
      "[21000]\ttraining's l1: 111.452\n",
      "[22000]\ttraining's l1: 110.934\n",
      "[23000]\ttraining's l1: 110.344\n",
      "[24000]\ttraining's l1: 109.709\n",
      "[25000]\ttraining's l1: 109.229\n",
      "[26000]\ttraining's l1: 108.856\n",
      "[27000]\ttraining's l1: 108.572\n",
      "[28000]\ttraining's l1: 108.284\n",
      "[29000]\ttraining's l1: 107.92\n",
      "[30000]\ttraining's l1: 107.574\n",
      "Did not meet early stopping. Best iteration is:\n",
      "[30000]\ttraining's l1: 107.574\n"
     ]
    },
    {
     "name": "stderr",
     "output_type": "stream",
     "text": [
      "2020-04-11 20:21:08,095 - INFO - finish training\n"
     ]
    }
   ],
   "source": [
    "def test_process_reg(model, df_regress_testA):\n",
    "    pre = model_final.predict(df_regress_testA[reg_features_name])\n",
    "#     return df_regress_testA['last_action_expect_time'] + df_regress_testA['grid_distance'] / df_regress_testA['speed']\n",
    "    return pre + df_regress_testA['last_action_expect_time'] \n",
    "model_final = train_with_df(df_regress_train, epoch = 30000, val_mode = False)\n",
    "se_testA_expect_times = test_process_reg(model_final_argument, df_regress_testA)"
   ]
  },
  {
   "cell_type": "markdown",
   "metadata": {},
   "source": [
    "### testB"
   ]
  },
  {
   "cell_type": "code",
   "execution_count": null,
   "metadata": {},
   "outputs": [
    {
     "name": "stderr",
     "output_type": "stream",
     "text": [
      "2020-04-14 18:03:33,140 - INFO - start training\n"
     ]
    },
    {
     "name": "stdout",
     "output_type": "stream",
     "text": [
      "Training until validation scores don't improve for 1000 rounds\n",
      "[1000]\ttraining's l1: 123.476\n",
      "[2000]\ttraining's l1: 119.373\n",
      "[3000]\ttraining's l1: 116.454\n",
      "[4000]\ttraining's l1: 114.43\n",
      "[5000]\ttraining's l1: 112.483\n"
     ]
    }
   ],
   "source": [
    "# model_final_argument = train_with_df(df_regress_train_argument, learning_rate = 0.05, epoch = 15000, val_mode = False)"
   ]
  },
  {
   "cell_type": "code",
   "execution_count": null,
   "metadata": {},
   "outputs": [],
   "source": [
    "model_final_argument.save_model('../user_data/makepair_gbdt/model_reg_pair.txt')"
   ]
  },
  {
   "cell_type": "code",
   "execution_count": null,
   "metadata": {},
   "outputs": [],
   "source": [
    "def test_process_reg(model, df_regress_testB):\n",
    "    pre = model.predict(df_regress_testB[reg_features_name])\n",
    "    return pre + df_regress_testB['last_action_expect_time'] \n",
    "se_testB_expect_times = test_process_reg(model_final_argument, df_regress_testB)"
   ]
  },
  {
   "cell_type": "markdown",
   "metadata": {},
   "source": [
    "# submit"
   ]
  },
  {
   "cell_type": "markdown",
   "metadata": {},
   "source": [
    "## testA"
   ]
  },
  {
   "cell_type": "code",
   "execution_count": 26,
   "metadata": {
    "scrolled": true
   },
   "outputs": [
    {
     "name": "stderr",
     "output_type": "stream",
     "text": [
      "2020-04-11 20:43:02,697 - INFO - start reading testA_dataset_mp\n",
      "2020-04-11 20:44:28,787 - INFO - finish reading testA_dataset_mp\n"
     ]
    }
   ],
   "source": [
    "logging.info('start reading testA_dataset_mp')\n",
    "pickle_path = 'var/data_sort_out/testA_dataset_mp.pickle'\n",
    "with open(pickle_path, 'rb') as f:\n",
    "    testA_dataset_mp = pickle.load(f)\n",
    "key_list_testA, mp_action_testA, mp_distance_testA, mp_order_testA, mp_distance_testA_detail = \\\n",
    "testA_dataset_mp['key_list'], testA_dataset_mp['mp_action'], testA_dataset_mp['mp_distance'], testA_dataset_mp['mp_order'], testA_dataset_mp['mp_distance_detail']\n",
    "logging.info('finish reading testA_dataset_mp')\n"
   ]
  },
  {
   "cell_type": "code",
   "execution_count": 27,
   "metadata": {},
   "outputs": [],
   "source": [
    "now_str = str(datetime.datetime.now()).replace(':', '_')\n",
    "test_expect_times_list = list(se_test_expect_times)\n",
    "\n",
    "submit_dir = 'submit/' + now_str + '/'\n",
    "if os.path.exists(submit_dir) == False:\n",
    "    os.mkdir(submit_dir)\n",
    "cur_date_str = None\n",
    "for i, (date, courier, wave_idx) in enumerate(key_list_testA):\n",
    "    df_a_action = mp_action_testA[date][courier][wave_idx]\n",
    "    choose_idx = int(testA_choose_idxs[i])\n",
    "    choose_row = df_a_action.iloc[choose_idx]\n",
    "    date_str = date.strftime('%Y%m%d')\n",
    "\n",
    "    if cur_date_str != date_str:\n",
    "        if cur_date_str != None:\n",
    "            f.close()\n",
    "        cur_date_str = date_str\n",
    "        f = open(submit_dir + cur_date_str + '.txt', 'w+')\n",
    "        f.write('courier_id,wave_index,tracking_id,courier_wave_start_lng,courier_wave_start_lat,action_type,expect_time\\n')\n",
    "    a_line = '%d,%d,%d,%.6f,%.6f,%s,%f\\n'% (choose_row['courier_id'], choose_row['wave_index'], choose_row['tracking_id'],\\\n",
    "                                            choose_row['courier_wave_start_lng'], choose_row['courier_wave_start_lat'], \\\n",
    "                                            choose_row['action_type'], test_expect_times_list[i],)\n",
    "    f.write(a_line)\n",
    "\n",
    "f.close()"
   ]
  },
  {
   "cell_type": "markdown",
   "metadata": {},
   "source": [
    "## testB"
   ]
  },
  {
   "cell_type": "code",
   "execution_count": 38,
   "metadata": {},
   "outputs": [
    {
     "name": "stderr",
     "output_type": "stream",
     "text": [
      "2020-04-14 14:30:40,704 - INFO - start reading testB_dataset_mp\n",
      "2020-04-14 14:31:53,606 - INFO - finish reading testB_dataset_mp\n"
     ]
    }
   ],
   "source": [
    "logging.info('start reading testB_dataset_mp')\n",
    "pickle_path = 'var/data_sort_out/testB_dataset_mp.pickle'\n",
    "with open(pickle_path, 'rb') as f:\n",
    "    testB_dataset_mp = pickle.load(f)\n",
    "key_list_testB, mp_action_testB, mp_distance_testB, mp_order_testB, mp_distance_testB_detail = \\\n",
    "testB_dataset_mp['key_list'], testB_dataset_mp['mp_action'], testB_dataset_mp['mp_distance'], testB_dataset_mp['mp_order'], testB_dataset_mp['mp_distance_detail']\n",
    "logging.info('finish reading testB_dataset_mp')\n"
   ]
  },
  {
   "cell_type": "code",
   "execution_count": 39,
   "metadata": {},
   "outputs": [],
   "source": [
    "now_str = str(datetime.datetime.now()).replace(':', '_')\n",
    "test_expect_times_list = list(se_test_expect_times)\n",
    "\n",
    "submit_dir = 'submit/' + now_str + '/'\n",
    "if os.path.exists(submit_dir) == False:\n",
    "    os.mkdir(submit_dir)\n",
    "cur_date_str = None\n",
    "for i, (date, courier, wave_idx) in enumerate(key_list_testB):\n",
    "    df_a_action = mp_action_testB[date][courier][wave_idx]\n",
    "    choose_idx = int(testB_choose_idxs[i])\n",
    "    choose_row = df_a_action.iloc[choose_idx]\n",
    "    date_str = date.strftime('%Y%m%d')\n",
    "\n",
    "    if cur_date_str != date_str:\n",
    "        if cur_date_str != None:\n",
    "            f.close()\n",
    "        cur_date_str = date_str\n",
    "        f = open(submit_dir + cur_date_str + '.txt', 'w+')\n",
    "        f.write('courier_id,wave_index,tracking_id,courier_wave_start_lng,courier_wave_start_lat,action_type,expect_time\\n')\n",
    "    a_line = '%d,%d,%d,%.6f,%.6f,%s,%f\\n'% (choose_row['courier_id'], choose_row['wave_index'], choose_row['tracking_id'],\\\n",
    "                                            choose_row['courier_wave_start_lng'], choose_row['courier_wave_start_lat'], \\\n",
    "                                            choose_row['action_type'], test_expect_times_list[i],)\n",
    "    f.write(a_line)\n",
    "\n",
    "f.close()"
   ]
  },
  {
   "cell_type": "code",
   "execution_count": null,
   "metadata": {},
   "outputs": [],
   "source": []
  }
 ],
 "metadata": {
  "kernelspec": {
   "display_name": "Python(hyr)\n",
   "language": "python",
   "name": "hyr"
  },
  "language_info": {
   "codemirror_mode": {
    "name": "ipython",
    "version": 3
   },
   "file_extension": ".py",
   "mimetype": "text/x-python",
   "name": "python",
   "nbconvert_exporter": "python",
   "pygments_lexer": "ipython3",
   "version": "3.6.9"
  },
  "toc": {
   "base_numbering": 1,
   "nav_menu": {},
   "number_sections": true,
   "sideBar": true,
   "skip_h1_title": false,
   "title_cell": "Table of Contents",
   "title_sidebar": "Contents",
   "toc_cell": false,
   "toc_position": {
    "height": "calc(100% - 180px)",
    "left": "10px",
    "top": "150px",
    "width": "343.082px"
   },
   "toc_section_display": true,
   "toc_window_display": true
  }
 },
 "nbformat": 4,
 "nbformat_minor": 2
}
