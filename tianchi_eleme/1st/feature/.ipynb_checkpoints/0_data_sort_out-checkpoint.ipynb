{
 "cells": [
  {
   "cell_type": "code",
   "execution_count": 1,
   "metadata": {},
   "outputs": [],
   "source": [
    "import pandas as pd\n",
    "import numpy as np\n",
    "import datetime\n",
    "import time"
   ]
  },
  {
   "cell_type": "code",
   "execution_count": 2,
   "metadata": {},
   "outputs": [],
   "source": [
    "from tools.pos_encoder import *\n",
    "from tools.time_encoder import *"
   ]
  },
  {
   "cell_type": "code",
   "execution_count": 3,
   "metadata": {},
   "outputs": [],
   "source": [
    "from IPython.display import display, HTML\n",
    "def show_df(df):\n",
    "    display(HTML(df.to_html()))"
   ]
  },
  {
   "cell_type": "markdown",
   "metadata": {},
   "source": [
    "# Read"
   ]
  },
  {
   "cell_type": "code",
   "execution_count": 4,
   "metadata": {},
   "outputs": [],
   "source": [
    "train_dataset_path = '../data/eleme_round1_train/'\n",
    "test_dataset_path = '../data/eleme_round1_testA/'\n",
    "testB_dataset_path = '../data/eleme_round1_testB/'"
   ]
  },
  {
   "cell_type": "code",
   "execution_count": 5,
   "metadata": {},
   "outputs": [],
   "source": [
    "def read_a_day(dataset_path, read_date):\n",
    "    df_action = pd.read_csv('%saction/action_%s.txt' % (dataset_path, read_date.strftime('%Y%m%d')))\n",
    "    df_courier = pd.read_csv('%scourier/courier_%s.txt' % (dataset_path, read_date.strftime('%Y%m%d')))\n",
    "    df_distance = pd.read_csv('%sdistance/distance_%s.txt' % (dataset_path, read_date.strftime('%Y%m%d')))\n",
    "    df_order = pd.read_csv('%sorder/order_%s.txt' % (dataset_path, read_date.strftime('%Y%m%d')))\n",
    "    return df_action, df_courier, df_distance, df_order\n",
    "\n",
    "def read_days(start_date, end_date, data_dir):\n",
    "    cur_date = start_date\n",
    "    actions = []\n",
    "    couriers = []\n",
    "    distances = []\n",
    "    orders = []\n",
    "    while cur_date < end_date:\n",
    "        df_action, df_courier, df_distance, df_order = read_a_day(data_dir, cur_date)\n",
    "        df_action['date'] = cur_date\n",
    "        df_courier['date'] = cur_date\n",
    "        df_distance['date'] = cur_date\n",
    "        df_order['date'] = cur_date\n",
    "        \n",
    "        actions.append(df_action)\n",
    "        couriers.append(df_courier)\n",
    "        distances.append(df_distance)\n",
    "        orders.append(df_order)\n",
    "        cur_date += datetime.timedelta(days = 1)\n",
    "    \n",
    "    df_actions = pd.concat(actions, axis = 0, ignore_index = True)\n",
    "    df_couriers = pd.concat(couriers, axis = 0, ignore_index = True)    \n",
    "    df_distances = pd.concat(distances, axis = 0, ignore_index = True)    \n",
    "    df_orders = pd.concat(orders, axis = 0, ignore_index = True) \n",
    "    return df_actions, df_couriers, df_distances, df_orders"
   ]
  },
  {
   "cell_type": "code",
   "execution_count": 6,
   "metadata": {},
   "outputs": [],
   "source": [
    "df_actions_train, df_couriers_train, df_distances_train, df_orders_train = read_days(datetime.datetime(2020, 2, 1), datetime.datetime(2020, 3, 1), train_dataset_path)\n",
    "df_actions_testA, df_couriers_testA, df_distances_testA, df_orders_testA = read_days(datetime.datetime(2020, 3, 1), datetime.datetime(2020, 3, 7), test_dataset_path)"
   ]
  },
  {
   "cell_type": "code",
   "execution_count": 13,
   "metadata": {},
   "outputs": [],
   "source": [
    "df_actions_testB, df_couriers_testB, df_distances_testB, df_orders_testB = read_days(datetime.datetime(2020, 3, 1), datetime.datetime(2020, 3, 7), testB_dataset_path)"
   ]
  },
  {
   "cell_type": "code",
   "execution_count": 7,
   "metadata": {},
   "outputs": [
    {
     "data": {
      "text/html": [
       "<div>\n",
       "<style scoped>\n",
       "    .dataframe tbody tr th:only-of-type {\n",
       "        vertical-align: middle;\n",
       "    }\n",
       "\n",
       "    .dataframe tbody tr th {\n",
       "        vertical-align: top;\n",
       "    }\n",
       "\n",
       "    .dataframe thead th {\n",
       "        text-align: right;\n",
       "    }\n",
       "</style>\n",
       "<table border=\"1\" class=\"dataframe\">\n",
       "  <thead>\n",
       "    <tr style=\"text-align: right;\">\n",
       "      <th></th>\n",
       "      <th>courier_id</th>\n",
       "      <th>wave_index</th>\n",
       "      <th>tracking_id</th>\n",
       "      <th>weather_grade</th>\n",
       "      <th>pick_lng</th>\n",
       "      <th>pick_lat</th>\n",
       "      <th>deliver_lng</th>\n",
       "      <th>deliver_lat</th>\n",
       "      <th>create_time</th>\n",
       "      <th>confirm_time</th>\n",
       "      <th>assigned_time</th>\n",
       "      <th>promise_deliver_time</th>\n",
       "      <th>estimate_pick_time</th>\n",
       "      <th>aoi_id</th>\n",
       "      <th>shop_id</th>\n",
       "      <th>date</th>\n",
       "    </tr>\n",
       "  </thead>\n",
       "  <tbody>\n",
       "    <tr>\n",
       "      <th>0</th>\n",
       "      <td>100006950</td>\n",
       "      <td>0</td>\n",
       "      <td>2100076028337521770</td>\n",
       "      <td>正常天气</td>\n",
       "      <td>121.435172</td>\n",
       "      <td>39.045104</td>\n",
       "      <td>121.445424</td>\n",
       "      <td>39.030201</td>\n",
       "      <td>1583031080</td>\n",
       "      <td>1583031081</td>\n",
       "      <td>1583031099</td>\n",
       "      <td>1583034560</td>\n",
       "      <td>1583032341</td>\n",
       "      <td>a22e938ecbcbda978b3130ce921f3539</td>\n",
       "      <td>71ab63c19a2b6ef5924e809a540d1d00</td>\n",
       "      <td>2020-03-01</td>\n",
       "    </tr>\n",
       "    <tr>\n",
       "      <th>1</th>\n",
       "      <td>100006950</td>\n",
       "      <td>0</td>\n",
       "      <td>2100076029547709715</td>\n",
       "      <td>正常天气</td>\n",
       "      <td>121.437147</td>\n",
       "      <td>39.045412</td>\n",
       "      <td>121.426724</td>\n",
       "      <td>39.031871</td>\n",
       "      <td>1583031280</td>\n",
       "      <td>1583031283</td>\n",
       "      <td>1583031339</td>\n",
       "      <td>1583034760</td>\n",
       "      <td>1583032303</td>\n",
       "      <td>2a81d869ad23907ae4f094cbf9a7144a</td>\n",
       "      <td>0bbcad93810f203c750220e055cf28a3</td>\n",
       "      <td>2020-03-01</td>\n",
       "    </tr>\n",
       "    <tr>\n",
       "      <th>2</th>\n",
       "      <td>100006950</td>\n",
       "      <td>0</td>\n",
       "      <td>2100076031141348641</td>\n",
       "      <td>正常天气</td>\n",
       "      <td>121.436453</td>\n",
       "      <td>39.043794</td>\n",
       "      <td>121.440344</td>\n",
       "      <td>39.044991</td>\n",
       "      <td>1583031472</td>\n",
       "      <td>1583031473</td>\n",
       "      <td>1583031519</td>\n",
       "      <td>1583033932</td>\n",
       "      <td>1583032253</td>\n",
       "      <td>79563b239ee269b542b03336ecce97a6</td>\n",
       "      <td>309e9cefd957115647ce992354946f6e</td>\n",
       "      <td>2020-03-01</td>\n",
       "    </tr>\n",
       "    <tr>\n",
       "      <th>3</th>\n",
       "      <td>100006950</td>\n",
       "      <td>0</td>\n",
       "      <td>2100076032019399862</td>\n",
       "      <td>正常天气</td>\n",
       "      <td>121.437105</td>\n",
       "      <td>39.045363</td>\n",
       "      <td>121.431104</td>\n",
       "      <td>39.038801</td>\n",
       "      <td>1583031733</td>\n",
       "      <td>1583031733</td>\n",
       "      <td>1583031759</td>\n",
       "      <td>1583035213</td>\n",
       "      <td>1583032933</td>\n",
       "      <td>619567be776f3cf9764522c693bc1946</td>\n",
       "      <td>d3f8b520e8a23b6c2c5c1120414744cb</td>\n",
       "      <td>2020-03-01</td>\n",
       "    </tr>\n",
       "    <tr>\n",
       "      <th>4</th>\n",
       "      <td>100006950</td>\n",
       "      <td>0</td>\n",
       "      <td>2100076030888641642</td>\n",
       "      <td>正常天气</td>\n",
       "      <td>121.435172</td>\n",
       "      <td>39.045104</td>\n",
       "      <td>121.444334</td>\n",
       "      <td>39.037091</td>\n",
       "      <td>1583031845</td>\n",
       "      <td>1583031846</td>\n",
       "      <td>1583031940</td>\n",
       "      <td>1583035025</td>\n",
       "      <td>1583032746</td>\n",
       "      <td>717afa9d93a87f20ccee19fe193122b5</td>\n",
       "      <td>71ab63c19a2b6ef5924e809a540d1d00</td>\n",
       "      <td>2020-03-01</td>\n",
       "    </tr>\n",
       "    <tr>\n",
       "      <th>...</th>\n",
       "      <td>...</td>\n",
       "      <td>...</td>\n",
       "      <td>...</td>\n",
       "      <td>...</td>\n",
       "      <td>...</td>\n",
       "      <td>...</td>\n",
       "      <td>...</td>\n",
       "      <td>...</td>\n",
       "      <td>...</td>\n",
       "      <td>...</td>\n",
       "      <td>...</td>\n",
       "      <td>...</td>\n",
       "      <td>...</td>\n",
       "      <td>...</td>\n",
       "      <td>...</td>\n",
       "      <td>...</td>\n",
       "    </tr>\n",
       "    <tr>\n",
       "      <th>18799</th>\n",
       "      <td>125779698</td>\n",
       "      <td>1</td>\n",
       "      <td>2100076513371719254</td>\n",
       "      <td>轻微恶劣天气</td>\n",
       "      <td>121.608369</td>\n",
       "      <td>39.181012</td>\n",
       "      <td>121.600364</td>\n",
       "      <td>39.185541</td>\n",
       "      <td>1583488497</td>\n",
       "      <td>1583488497</td>\n",
       "      <td>1583488501</td>\n",
       "      <td>1583491497</td>\n",
       "      <td>1583489577</td>\n",
       "      <td>cd7019da955d597fd63de054fc52b6ee</td>\n",
       "      <td>8ebd589f62d84bee56a310021bb41d13</td>\n",
       "      <td>2020-03-06</td>\n",
       "    </tr>\n",
       "    <tr>\n",
       "      <th>18800</th>\n",
       "      <td>125779698</td>\n",
       "      <td>1</td>\n",
       "      <td>2100076513672267350</td>\n",
       "      <td>轻微恶劣天气</td>\n",
       "      <td>121.608369</td>\n",
       "      <td>39.181012</td>\n",
       "      <td>121.602344</td>\n",
       "      <td>39.193581</td>\n",
       "      <td>1583488566</td>\n",
       "      <td>1583488567</td>\n",
       "      <td>1583488621</td>\n",
       "      <td>1583491686</td>\n",
       "      <td>1583489827</td>\n",
       "      <td>ccde0a11e918d116ba43b2be58b0da8c</td>\n",
       "      <td>8ebd589f62d84bee56a310021bb41d13</td>\n",
       "      <td>2020-03-06</td>\n",
       "    </tr>\n",
       "    <tr>\n",
       "      <th>18801</th>\n",
       "      <td>125812730</td>\n",
       "      <td>1</td>\n",
       "      <td>2100076455950288622</td>\n",
       "      <td>正常天气</td>\n",
       "      <td>121.409921</td>\n",
       "      <td>39.125993</td>\n",
       "      <td>121.403944</td>\n",
       "      <td>39.125741</td>\n",
       "      <td>1583463185</td>\n",
       "      <td>1583463186</td>\n",
       "      <td>1583463245</td>\n",
       "      <td>1583464986</td>\n",
       "      <td>1583464026</td>\n",
       "      <td>bc5c9a185daab157203aba08ea886d52</td>\n",
       "      <td>ada39f980c647b532fc65b60935ef574</td>\n",
       "      <td>2020-03-06</td>\n",
       "    </tr>\n",
       "    <tr>\n",
       "      <th>18802</th>\n",
       "      <td>125812730</td>\n",
       "      <td>1</td>\n",
       "      <td>2100076456506066671</td>\n",
       "      <td>正常天气</td>\n",
       "      <td>121.416328</td>\n",
       "      <td>39.130422</td>\n",
       "      <td>121.412454</td>\n",
       "      <td>39.126301</td>\n",
       "      <td>1583463340</td>\n",
       "      <td>1583463341</td>\n",
       "      <td>1583463365</td>\n",
       "      <td>1583465141</td>\n",
       "      <td>1583464121</td>\n",
       "      <td>6d301a8f38f0ff4437e812b6039c0f3c</td>\n",
       "      <td>33f24e06a738cff391f0c2435589f9ff</td>\n",
       "      <td>2020-03-06</td>\n",
       "    </tr>\n",
       "    <tr>\n",
       "      <th>18803</th>\n",
       "      <td>125812730</td>\n",
       "      <td>1</td>\n",
       "      <td>2100076457324840439</td>\n",
       "      <td>正常天气</td>\n",
       "      <td>121.418252</td>\n",
       "      <td>39.126182</td>\n",
       "      <td>121.418884</td>\n",
       "      <td>39.133121</td>\n",
       "      <td>1583463747</td>\n",
       "      <td>1583463748</td>\n",
       "      <td>1583463965</td>\n",
       "      <td>1583465548</td>\n",
       "      <td>1583463976</td>\n",
       "      <td>0a5db8bb221329d101b1418b340ad694</td>\n",
       "      <td>7232ed8cc301a79be94da6fc4bbe6d1c</td>\n",
       "      <td>2020-03-06</td>\n",
       "    </tr>\n",
       "  </tbody>\n",
       "</table>\n",
       "<p>18804 rows × 16 columns</p>\n",
       "</div>"
      ],
      "text/plain": [
       "       courier_id  wave_index          tracking_id weather_grade    pick_lng  \\\n",
       "0       100006950           0  2100076028337521770          正常天气  121.435172   \n",
       "1       100006950           0  2100076029547709715          正常天气  121.437147   \n",
       "2       100006950           0  2100076031141348641          正常天气  121.436453   \n",
       "3       100006950           0  2100076032019399862          正常天气  121.437105   \n",
       "4       100006950           0  2100076030888641642          正常天气  121.435172   \n",
       "...           ...         ...                  ...           ...         ...   \n",
       "18799   125779698           1  2100076513371719254        轻微恶劣天气  121.608369   \n",
       "18800   125779698           1  2100076513672267350        轻微恶劣天气  121.608369   \n",
       "18801   125812730           1  2100076455950288622          正常天气  121.409921   \n",
       "18802   125812730           1  2100076456506066671          正常天气  121.416328   \n",
       "18803   125812730           1  2100076457324840439          正常天气  121.418252   \n",
       "\n",
       "        pick_lat  deliver_lng  deliver_lat  create_time  confirm_time  \\\n",
       "0      39.045104   121.445424    39.030201   1583031080    1583031081   \n",
       "1      39.045412   121.426724    39.031871   1583031280    1583031283   \n",
       "2      39.043794   121.440344    39.044991   1583031472    1583031473   \n",
       "3      39.045363   121.431104    39.038801   1583031733    1583031733   \n",
       "4      39.045104   121.444334    39.037091   1583031845    1583031846   \n",
       "...          ...          ...          ...          ...           ...   \n",
       "18799  39.181012   121.600364    39.185541   1583488497    1583488497   \n",
       "18800  39.181012   121.602344    39.193581   1583488566    1583488567   \n",
       "18801  39.125993   121.403944    39.125741   1583463185    1583463186   \n",
       "18802  39.130422   121.412454    39.126301   1583463340    1583463341   \n",
       "18803  39.126182   121.418884    39.133121   1583463747    1583463748   \n",
       "\n",
       "       assigned_time  promise_deliver_time  estimate_pick_time  \\\n",
       "0         1583031099            1583034560          1583032341   \n",
       "1         1583031339            1583034760          1583032303   \n",
       "2         1583031519            1583033932          1583032253   \n",
       "3         1583031759            1583035213          1583032933   \n",
       "4         1583031940            1583035025          1583032746   \n",
       "...              ...                   ...                 ...   \n",
       "18799     1583488501            1583491497          1583489577   \n",
       "18800     1583488621            1583491686          1583489827   \n",
       "18801     1583463245            1583464986          1583464026   \n",
       "18802     1583463365            1583465141          1583464121   \n",
       "18803     1583463965            1583465548          1583463976   \n",
       "\n",
       "                                 aoi_id                           shop_id  \\\n",
       "0      a22e938ecbcbda978b3130ce921f3539  71ab63c19a2b6ef5924e809a540d1d00   \n",
       "1      2a81d869ad23907ae4f094cbf9a7144a  0bbcad93810f203c750220e055cf28a3   \n",
       "2      79563b239ee269b542b03336ecce97a6  309e9cefd957115647ce992354946f6e   \n",
       "3      619567be776f3cf9764522c693bc1946  d3f8b520e8a23b6c2c5c1120414744cb   \n",
       "4      717afa9d93a87f20ccee19fe193122b5  71ab63c19a2b6ef5924e809a540d1d00   \n",
       "...                                 ...                               ...   \n",
       "18799  cd7019da955d597fd63de054fc52b6ee  8ebd589f62d84bee56a310021bb41d13   \n",
       "18800  ccde0a11e918d116ba43b2be58b0da8c  8ebd589f62d84bee56a310021bb41d13   \n",
       "18801  bc5c9a185daab157203aba08ea886d52  ada39f980c647b532fc65b60935ef574   \n",
       "18802  6d301a8f38f0ff4437e812b6039c0f3c  33f24e06a738cff391f0c2435589f9ff   \n",
       "18803  0a5db8bb221329d101b1418b340ad694  7232ed8cc301a79be94da6fc4bbe6d1c   \n",
       "\n",
       "            date  \n",
       "0     2020-03-01  \n",
       "1     2020-03-01  \n",
       "2     2020-03-01  \n",
       "3     2020-03-01  \n",
       "4     2020-03-01  \n",
       "...          ...  \n",
       "18799 2020-03-06  \n",
       "18800 2020-03-06  \n",
       "18801 2020-03-06  \n",
       "18802 2020-03-06  \n",
       "18803 2020-03-06  \n",
       "\n",
       "[18804 rows x 16 columns]"
      ]
     },
     "execution_count": 7,
     "metadata": {},
     "output_type": "execute_result"
    }
   ],
   "source": [
    "df_orders_testA"
   ]
  },
  {
   "cell_type": "markdown",
   "metadata": {},
   "source": [
    "# build dataset-level features"
   ]
  },
  {
   "cell_type": "markdown",
   "metadata": {},
   "source": [
    "## one hot"
   ]
  },
  {
   "cell_type": "code",
   "execution_count": 7,
   "metadata": {},
   "outputs": [],
   "source": [
    "def one_hot_features(df_train, df_test, one_hot_features):\n",
    "    df_train['type'] = 'train'\n",
    "    df_test['type'] = 'test'\n",
    "    one_hot_names = []\n",
    "    df = pd.concat([df_train, df_test])\n",
    "    for feature in one_hot_features:\n",
    "        df_one_hot = pd.get_dummies(df[feature], prefix=feature)\n",
    "        df = pd.concat([df, df_one_hot], axis=1)\n",
    "        one_hot_names.extend(list(df_one_hot.columns))\n",
    "    return df.query('type == \"train\"'), df.query('type == \"test\"'), one_hot_names"
   ]
  },
  {
   "cell_type": "code",
   "execution_count": 8,
   "metadata": {},
   "outputs": [],
   "source": [
    "df_actions_train, df_actions_testA, actions_one_hot_names = one_hot_features(df_actions_train, df_actions_testA, ['action_type'])\n",
    "df_couriers_train, df_couriers_testA, couriers_one_hot_names = one_hot_features(df_couriers_train, df_couriers_testA, ['level', 'max_load'])\n",
    "df_distances_train, df_distances_testA, distances_one_hot_names = one_hot_features(df_distances_train, df_distances_testA, ['source_type', 'target_type'])\n",
    "df_orders_train, df_orders_testA, orders_one_hot_names = one_hot_features(df_orders_train, df_orders_testA, ['weather_grade'])"
   ]
  },
  {
   "cell_type": "code",
   "execution_count": 9,
   "metadata": {},
   "outputs": [
    {
     "data": {
      "text/plain": [
       "3    13550\n",
       "2     5754\n",
       "1     1361\n",
       "0      626\n",
       "Name: level, dtype: int64"
      ]
     },
     "execution_count": 9,
     "metadata": {},
     "output_type": "execute_result"
    }
   ],
   "source": [
    "df_couriers_train['level'].value_counts()"
   ]
  },
  {
   "cell_type": "markdown",
   "metadata": {},
   "source": [
    "## order aoi shop courier 交叉"
   ]
  },
  {
   "cell_type": "code",
   "execution_count": 10,
   "metadata": {},
   "outputs": [],
   "source": [
    "df_order = pd.concat([df_orders_train, df_orders_testA])\n",
    "\n",
    "def build_aoi_feature(df):\n",
    "    res_dict = {'aoi_count' : df.shape[0]}\n",
    "    res_dict['aoi_shop_count'] = len(set(df['shop_id']))\n",
    "    res_dict['aoi_courier_count'] = len(set(df['courier_id']))\n",
    "    return pd.Series(res_dict)\n",
    "\n",
    "def build_shop_feature(df):\n",
    "    res_dict = {'shop_count' : df.shape[0]}\n",
    "    res_dict['shop_aoi_count'] = len(set(df['aoi_id']))\n",
    "    res_dict['shop_courier_count'] = len(set(df['courier_id']))\n",
    "    return pd.Series(res_dict)\n",
    "\n",
    "df_feature_aoi = df_order.groupby('aoi_id').apply(build_aoi_feature)\n",
    "df_feature_shop = df_order.groupby('shop_id').apply(build_shop_feature)\n",
    "df_feature_courier = df_order.groupby('courier_id').apply(lambda x : pd.Series({\n",
    "    'courier_aoi_count' : len(set(x['aoi_id'])),\n",
    "    'courier_shop_count' : len(set(x['shop_id'])),\n",
    "    'courier_count' : x.shape[0]\n",
    "}))\n",
    "\n",
    "def add_aoi_shop_features(df_origin, df_feature, origin_name):\n",
    "    feature_names = df_feature.columns\n",
    "    for feature in feature_names:\n",
    "        df_origin[feature] = df_origin[origin_name].map(df_feature[feature])\n",
    "    return df_origin\n",
    "\n",
    "\n",
    "df_order = add_aoi_shop_features(df_order, df_feature_aoi, 'aoi_id')\n",
    "df_order = add_aoi_shop_features(df_order, df_feature_shop, 'shop_id')\n",
    "df_order = add_aoi_shop_features(df_order, df_feature_courier, 'courier_id')\n",
    "\n",
    "df_orders_train, df_orders_testA = df_order.query('type == \"train\"'), df_order.query('type == \"test\"')"
   ]
  },
  {
   "cell_type": "markdown",
   "metadata": {},
   "source": [
    "# Map"
   ]
  },
  {
   "cell_type": "code",
   "execution_count": 11,
   "metadata": {},
   "outputs": [],
   "source": [
    "def get_map(df):\n",
    "    \"\"\"\n",
    "    将数据映射成字典，可通过\n",
    "        mp[date][courier_id][wave_index]\n",
    "    访问\n",
    "\n",
    "    \"\"\"\n",
    "    last_date, last_courier, last_wave = df.at[0, 'date'], df.at[0, 'courier_id'], df.at[0, 'wave_index']\n",
    "    last_i = 0\n",
    "    mp_date, mp_courier, mp_wave = {}, {}, {}\n",
    "    key_list = []\n",
    "    for i in range(1, df.shape[0]):\n",
    "        cur_wave = df.at[i, 'wave_index']\n",
    "        cur_courier = df.at[i, 'courier_id']\n",
    "        cur_date = df.at[i, 'date']\n",
    "\n",
    "        if last_wave != cur_wave or (last_wave == cur_wave and last_courier != cur_courier):\n",
    "            mp_wave[last_wave] = df.iloc[last_i : i]\n",
    "            last_i = i\n",
    "            key_list.append([last_date, last_courier, last_wave])\n",
    "            last_wave = cur_wave\n",
    "\n",
    "        if last_courier != cur_courier or (last_courier == cur_courier and last_date != cur_date):\n",
    "            mp_courier[last_courier] = mp_wave.copy()\n",
    "            mp_wave = {}\n",
    "            last_courier = cur_courier\n",
    "\n",
    "        if last_date != cur_date:\n",
    "            mp_date[last_date] = mp_courier.copy()\n",
    "            mp_courier = {}\n",
    "            last_date = cur_date\n",
    "    \n",
    "    mp_wave[last_wave] = df.iloc[last_i : ]\n",
    "    key_list.append([last_date, last_courier, last_wave])\n",
    "    mp_courier[last_courier] = mp_wave.copy()\n",
    "    mp_date[last_date] = mp_courier.copy()\n",
    "    mp_courier = {}\n",
    "    \n",
    "    return mp_date, key_list\n"
   ]
  },
  {
   "cell_type": "code",
   "execution_count": 12,
   "metadata": {},
   "outputs": [
    {
     "data": {
      "text/plain": [
       "629.2347650527954"
      ]
     },
     "execution_count": 12,
     "metadata": {},
     "output_type": "execute_result"
    }
   ],
   "source": [
    "start = time.time()\n",
    "mp_action_train, action_key_list_train = get_map(df_actions_train)\n",
    "mp_distance_train, distance_key_list_train = get_map(df_distances_train)\n",
    "mp_order_train, order_key_list_train = get_map(df_orders_train)\n",
    "time.time() - start"
   ]
  },
  {
   "cell_type": "code",
   "execution_count": 13,
   "metadata": {},
   "outputs": [
    {
     "data": {
      "text/plain": [
       "19.60161542892456"
      ]
     },
     "execution_count": 13,
     "metadata": {},
     "output_type": "execute_result"
    }
   ],
   "source": [
    "start = time.time()\n",
    "mp_action_testA, action_key_list_testA = get_map(df_actions_testA)\n",
    "mp_distance_testA, distance_key_list_testA = get_map(df_distances_testA)\n",
    "mp_order_testA, order_key_list_testA = get_map(df_orders_testA)\n",
    "time.time() - start"
   ]
  },
  {
   "cell_type": "code",
   "execution_count": 14,
   "metadata": {},
   "outputs": [
    {
     "data": {
      "text/plain": [
       "25.775644302368164"
      ]
     },
     "execution_count": 14,
     "metadata": {},
     "output_type": "execute_result"
    }
   ],
   "source": [
    "start = time.time()\n",
    "mp_action_testB, action_key_list_testB = get_map(df_actions_testB)\n",
    "mp_distance_testB, distance_key_list_testB = get_map(df_distances_testB)\n",
    "mp_order_testB, order_key_list_testB = get_map(df_orders_testB)\n",
    "time.time() - start"
   ]
  },
  {
   "cell_type": "code",
   "execution_count": 16,
   "metadata": {},
   "outputs": [],
   "source": [
    "def get_map_distance_detail(mp_distance, key_list):\n",
    "    mp_distance_detail = {}\n",
    "    for (date, courier, wave_idx) in key_list:\n",
    "        if date not in mp_distance_detail:\n",
    "            mp_distance_detail[date] = {}\n",
    "        if courier not in mp_distance_detail[date]:\n",
    "            mp_distance_detail[date][courier] = {}\n",
    "        if wave_idx not in mp_distance_detail[date][courier]:\n",
    "            mp_distance_detail[date][courier][wave_idx] = {}\n",
    "        \n",
    "        df_a_distance = mp_distance[date][courier][wave_idx]\n",
    "        \n",
    "        gby_tracking = df_a_distance.groupby('tracking_id')\n",
    "        for tracking_id, df_track_id in gby_tracking:\n",
    "            mp_distance_detail[date][courier][wave_idx][tracking_id] = {}\n",
    "            gby_target_tracking = df_track_id.groupby('target_tracking_id')\n",
    "            for target_trackingid, df_target_tracking in gby_target_tracking:\n",
    "                mp_distance_detail[date][courier][wave_idx][tracking_id][target_trackingid] = df_target_tracking\n",
    "            \n",
    "    return mp_distance_detail"
   ]
  },
  {
   "cell_type": "code",
   "execution_count": 15,
   "metadata": {},
   "outputs": [
    {
     "data": {
      "text/plain": [
       "839.732988357544"
      ]
     },
     "execution_count": 15,
     "metadata": {},
     "output_type": "execute_result"
    }
   ],
   "source": [
    "start = time.time()\n",
    "mp_distance_detail_train = get_map_distance_detail(mp_distance_train, action_key_list_train)\n",
    "mp_distance_detail_testA = get_map_distance_detail(mp_distance_testA, action_key_list_testA)\n",
    "\n",
    "time.time() - start"
   ]
  },
  {
   "cell_type": "code",
   "execution_count": 17,
   "metadata": {},
   "outputs": [],
   "source": [
    "mp_distance_detail_testB = get_map_distance_detail(mp_distance_testB, action_key_list_testB)\n"
   ]
  },
  {
   "cell_type": "markdown",
   "metadata": {},
   "source": [
    "# Check"
   ]
  },
  {
   "cell_type": "code",
   "execution_count": 16,
   "metadata": {},
   "outputs": [
    {
     "data": {
      "text/plain": [
       "(82533, 82533, 82533, 4219, 4219, 4219)"
      ]
     },
     "execution_count": 16,
     "metadata": {},
     "output_type": "execute_result"
    }
   ],
   "source": [
    "len(action_key_list_train), len(distance_key_list_train), len(order_key_list_train), \\\n",
    "len(action_key_list_testA), len(distance_key_list_testA), len(order_key_list_testA)"
   ]
  },
  {
   "cell_type": "code",
   "execution_count": 18,
   "metadata": {},
   "outputs": [
    {
     "data": {
      "text/plain": [
       "(4193, 4193, 4193)"
      ]
     },
     "execution_count": 18,
     "metadata": {},
     "output_type": "execute_result"
    }
   ],
   "source": [
    "len(action_key_list_testB), len(distance_key_list_testB), len(order_key_list_testB)"
   ]
  },
  {
   "cell_type": "code",
   "execution_count": 17,
   "metadata": {},
   "outputs": [
    {
     "data": {
      "text/plain": [
       "(True, True)"
      ]
     },
     "execution_count": 17,
     "metadata": {},
     "output_type": "execute_result"
    }
   ],
   "source": [
    "sorted(action_key_list_train) == sorted(distance_key_list_train) == sorted(order_key_list_train), \\\n",
    "sorted(action_key_list_testA) == sorted(distance_key_list_testA) == sorted(order_key_list_testA)"
   ]
  },
  {
   "cell_type": "code",
   "execution_count": 19,
   "metadata": {},
   "outputs": [
    {
     "data": {
      "text/plain": [
       "True"
      ]
     },
     "execution_count": 19,
     "metadata": {},
     "output_type": "execute_result"
    }
   ],
   "source": [
    "sorted(action_key_list_testB) == sorted(distance_key_list_testB) == sorted(order_key_list_testB)"
   ]
  },
  {
   "cell_type": "code",
   "execution_count": 18,
   "metadata": {},
   "outputs": [
    {
     "data": {
      "text/html": [
       "<div>\n",
       "<style scoped>\n",
       "    .dataframe tbody tr th:only-of-type {\n",
       "        vertical-align: middle;\n",
       "    }\n",
       "\n",
       "    .dataframe tbody tr th {\n",
       "        vertical-align: top;\n",
       "    }\n",
       "\n",
       "    .dataframe thead th {\n",
       "        text-align: right;\n",
       "    }\n",
       "</style>\n",
       "<table border=\"1\" class=\"dataframe\">\n",
       "  <thead>\n",
       "    <tr style=\"text-align: right;\">\n",
       "      <th></th>\n",
       "      <th>courier_id</th>\n",
       "      <th>wave_index</th>\n",
       "      <th>tracking_id</th>\n",
       "      <th>courier_wave_start_lng</th>\n",
       "      <th>courier_wave_start_lat</th>\n",
       "      <th>action_type</th>\n",
       "      <th>expect_time</th>\n",
       "      <th>date</th>\n",
       "      <th>type</th>\n",
       "      <th>action_type_DELIVERY</th>\n",
       "      <th>action_type_PICKUP</th>\n",
       "    </tr>\n",
       "  </thead>\n",
       "  <tbody>\n",
       "    <tr>\n",
       "      <th>37602</th>\n",
       "      <td>10325553</td>\n",
       "      <td>1</td>\n",
       "      <td>2100076463172683062</td>\n",
       "      <td>121.460578</td>\n",
       "      <td>39.154954</td>\n",
       "      <td>PICKUP</td>\n",
       "      <td>1583466111</td>\n",
       "      <td>2020-03-06</td>\n",
       "      <td>test</td>\n",
       "      <td>0</td>\n",
       "      <td>1</td>\n",
       "    </tr>\n",
       "    <tr>\n",
       "      <th>37603</th>\n",
       "      <td>10325553</td>\n",
       "      <td>1</td>\n",
       "      <td>2100076464220046355</td>\n",
       "      <td>121.460578</td>\n",
       "      <td>39.154954</td>\n",
       "      <td>PICKUP</td>\n",
       "      <td>1583466269</td>\n",
       "      <td>2020-03-06</td>\n",
       "      <td>test</td>\n",
       "      <td>0</td>\n",
       "      <td>1</td>\n",
       "    </tr>\n",
       "    <tr>\n",
       "      <th>37604</th>\n",
       "      <td>10325553</td>\n",
       "      <td>1</td>\n",
       "      <td>2100076464812787347</td>\n",
       "      <td>121.460578</td>\n",
       "      <td>39.154954</td>\n",
       "      <td>DELIVERY</td>\n",
       "      <td>0</td>\n",
       "      <td>2020-03-06</td>\n",
       "      <td>test</td>\n",
       "      <td>1</td>\n",
       "      <td>0</td>\n",
       "    </tr>\n",
       "    <tr>\n",
       "      <th>37605</th>\n",
       "      <td>10325553</td>\n",
       "      <td>1</td>\n",
       "      <td>2100076463172683062</td>\n",
       "      <td>121.460578</td>\n",
       "      <td>39.154954</td>\n",
       "      <td>DELIVERY</td>\n",
       "      <td>0</td>\n",
       "      <td>2020-03-06</td>\n",
       "      <td>test</td>\n",
       "      <td>1</td>\n",
       "      <td>0</td>\n",
       "    </tr>\n",
       "    <tr>\n",
       "      <th>37606</th>\n",
       "      <td>10325553</td>\n",
       "      <td>1</td>\n",
       "      <td>2100076464220046355</td>\n",
       "      <td>121.460578</td>\n",
       "      <td>39.154954</td>\n",
       "      <td>DELIVERY</td>\n",
       "      <td>0</td>\n",
       "      <td>2020-03-06</td>\n",
       "      <td>test</td>\n",
       "      <td>1</td>\n",
       "      <td>0</td>\n",
       "    </tr>\n",
       "    <tr>\n",
       "      <th>37607</th>\n",
       "      <td>10325553</td>\n",
       "      <td>1</td>\n",
       "      <td>2100076464812787347</td>\n",
       "      <td>121.460578</td>\n",
       "      <td>39.154954</td>\n",
       "      <td>PICKUP</td>\n",
       "      <td>0</td>\n",
       "      <td>2020-03-06</td>\n",
       "      <td>test</td>\n",
       "      <td>0</td>\n",
       "      <td>1</td>\n",
       "    </tr>\n",
       "  </tbody>\n",
       "</table>\n",
       "</div>"
      ],
      "text/plain": [
       "       courier_id  wave_index          tracking_id  courier_wave_start_lng  \\\n",
       "37602    10325553           1  2100076463172683062              121.460578   \n",
       "37603    10325553           1  2100076464220046355              121.460578   \n",
       "37604    10325553           1  2100076464812787347              121.460578   \n",
       "37605    10325553           1  2100076463172683062              121.460578   \n",
       "37606    10325553           1  2100076464220046355              121.460578   \n",
       "37607    10325553           1  2100076464812787347              121.460578   \n",
       "\n",
       "       courier_wave_start_lat action_type  expect_time       date  type  \\\n",
       "37602               39.154954      PICKUP   1583466111 2020-03-06  test   \n",
       "37603               39.154954      PICKUP   1583466269 2020-03-06  test   \n",
       "37604               39.154954    DELIVERY            0 2020-03-06  test   \n",
       "37605               39.154954    DELIVERY            0 2020-03-06  test   \n",
       "37606               39.154954    DELIVERY            0 2020-03-06  test   \n",
       "37607               39.154954      PICKUP            0 2020-03-06  test   \n",
       "\n",
       "       action_type_DELIVERY  action_type_PICKUP  \n",
       "37602                     0                   1  \n",
       "37603                     0                   1  \n",
       "37604                     1                   0  \n",
       "37605                     1                   0  \n",
       "37606                     1                   0  \n",
       "37607                     0                   1  "
      ]
     },
     "execution_count": 18,
     "metadata": {},
     "output_type": "execute_result"
    }
   ],
   "source": [
    "date = datetime.datetime(2020, 3, 6)\n",
    "df_actions_testA.query('date == @date & courier_id == \"10325553\"') "
   ]
  },
  {
   "cell_type": "code",
   "execution_count": 19,
   "metadata": {},
   "outputs": [
    {
     "data": {
      "text/plain": [
       "{1:        courier_id  wave_index          tracking_id  courier_wave_start_lng  \\\n",
       " 37602    10325553           1  2100076463172683062              121.460578   \n",
       " 37603    10325553           1  2100076464220046355              121.460578   \n",
       " 37604    10325553           1  2100076464812787347              121.460578   \n",
       " 37605    10325553           1  2100076463172683062              121.460578   \n",
       " 37606    10325553           1  2100076464220046355              121.460578   \n",
       " 37607    10325553           1  2100076464812787347              121.460578   \n",
       " \n",
       "        courier_wave_start_lat action_type  expect_time       date  type  \\\n",
       " 37602               39.154954      PICKUP   1583466111 2020-03-06  test   \n",
       " 37603               39.154954      PICKUP   1583466269 2020-03-06  test   \n",
       " 37604               39.154954    DELIVERY            0 2020-03-06  test   \n",
       " 37605               39.154954    DELIVERY            0 2020-03-06  test   \n",
       " 37606               39.154954    DELIVERY            0 2020-03-06  test   \n",
       " 37607               39.154954      PICKUP            0 2020-03-06  test   \n",
       " \n",
       "        action_type_DELIVERY  action_type_PICKUP  \n",
       " 37602                     0                   1  \n",
       " 37603                     0                   1  \n",
       " 37604                     1                   0  \n",
       " 37605                     1                   0  \n",
       " 37606                     1                   0  \n",
       " 37607                     0                   1  }"
      ]
     },
     "execution_count": 19,
     "metadata": {},
     "output_type": "execute_result"
    }
   ],
   "source": [
    "date = datetime.datetime(2020, 3, 6)\n",
    "mp_action_testA[date][10325553]"
   ]
  },
  {
   "cell_type": "code",
   "execution_count": 20,
   "metadata": {},
   "outputs": [],
   "source": [
    "i = 0\n",
    "for (a, b, c), (aa, bb, cc) in zip(sorted(action_key_list_testA), sorted(distance_key_list_testA)):\n",
    "    if a != aa or b != bb or c != cc:\n",
    "        print(i)\n",
    "    i += 1\n",
    "        "
   ]
  },
  {
   "cell_type": "markdown",
   "metadata": {},
   "source": [
    "# pickle"
   ]
  },
  {
   "cell_type": "code",
   "execution_count": 20,
   "metadata": {},
   "outputs": [],
   "source": [
    "import pickle\n",
    "PICKLE_PATH = '../user_data/data_sort_out'"
   ]
  },
  {
   "cell_type": "code",
   "execution_count": 22,
   "metadata": {},
   "outputs": [],
   "source": [
    "testB_dataset_mp = {\n",
    "    'key_list' : action_key_list_testB,\n",
    "    'mp_action' : mp_action_testB,\n",
    "    'mp_distance' : mp_distance_testB,\n",
    "    'mp_order' : mp_order_testB,\n",
    "    'mp_distance_detail' : mp_distance_detail_testB\n",
    "}\n",
    "with open('%s/testB_dataset_mp.pickle'%(PICKLE_PATH), 'wb') as f:\n",
    "    pickle.dump(testB_dataset_mp, f)"
   ]
  },
  {
   "cell_type": "code",
   "execution_count": 23,
   "metadata": {},
   "outputs": [],
   "source": [
    "testB_dataset_df = {\n",
    "    'df_actions' : df_actions_testB,\n",
    "    'df_couriers' : df_couriers_testB,\n",
    "    'df_distances' : df_distances_testB,\n",
    "    'df_orders' : df_orders_testB\n",
    "}\n",
    "with open('%s/testB_dataset_df.pickle'%(PICKLE_PATH), 'wb') as f:\n",
    "    pickle.dump(testB_dataset_df, f)"
   ]
  },
  {
   "cell_type": "code",
   "execution_count": 22,
   "metadata": {},
   "outputs": [],
   "source": [
    "train_dataset_mp = {\n",
    "    'key_list' : action_key_list_train,\n",
    "    'mp_action' : mp_action_train,\n",
    "    'mp_distance' : mp_distance_train,\n",
    "    'mp_order' : mp_order_train,\n",
    "    'mp_distance_detail' : mp_distance_detail_train\n",
    "}\n",
    "with open('%s/train_dataset_mp.pickle'%(PICKLE_PATH), 'wb') as f:\n",
    "    pickle.dump(train_dataset_mp, f)"
   ]
  },
  {
   "cell_type": "code",
   "execution_count": 23,
   "metadata": {},
   "outputs": [],
   "source": [
    "testA_dataset_mp = {\n",
    "    'key_list' : action_key_list_testA,\n",
    "    'mp_action' : mp_action_testA,\n",
    "    'mp_distance' : mp_distance_testA,\n",
    "    'mp_order' : mp_order_testA,\n",
    "    'mp_distance_detail' : mp_distance_detail_testA\n",
    "}\n",
    "with open('%s/testA_dataset_mp.pickle'%(PICKLE_PATH), 'wb') as f:\n",
    "    pickle.dump(testA_dataset_mp, f)"
   ]
  },
  {
   "cell_type": "code",
   "execution_count": 24,
   "metadata": {},
   "outputs": [],
   "source": [
    "train_dataset_df = {\n",
    "    'df_actions' : df_actions_train,\n",
    "    'df_couriers' : df_couriers_train,\n",
    "    'df_distances' : df_distances_train,\n",
    "    'df_orders' : df_orders_train\n",
    "}\n",
    "with open('%s/train_dataset_df.pickle'%(PICKLE_PATH), 'wb') as f:\n",
    "    pickle.dump(train_dataset_df, f)"
   ]
  },
  {
   "cell_type": "code",
   "execution_count": 25,
   "metadata": {},
   "outputs": [],
   "source": [
    "testA_dataset_df = {\n",
    "    'df_actions' : df_actions_testA,\n",
    "    'df_couriers' : df_couriers_testA,\n",
    "    'df_distances' : df_distances_testA,\n",
    "    'df_orders' : df_orders_testA\n",
    "}\n",
    "with open('%s/testA_dataset_df.pickle'%(PICKLE_PATH), 'wb') as f:\n",
    "    pickle.dump(testA_dataset_df, f)"
   ]
  },
  {
   "cell_type": "code",
   "execution_count": 26,
   "metadata": {},
   "outputs": [],
   "source": [
    "one_hot_name = {\n",
    "    'actions' : actions_one_hot_names,\n",
    "    'couriers' : couriers_one_hot_names,\n",
    "    'distances' : distances_one_hot_names,\n",
    "    'orders' : orders_one_hot_names\n",
    "}\n",
    "with open('%s/one_hot_name.pickle'%(PICKLE_PATH), 'wb') as f:\n",
    "    pickle.dump(one_hot_name, f)"
   ]
  }
 ],
 "metadata": {
  "kernelspec": {
   "display_name": "Python(hyr)\n",
   "language": "python",
   "name": "hyr"
  },
  "language_info": {
   "codemirror_mode": {
    "name": "ipython",
    "version": 3
   },
   "file_extension": ".py",
   "mimetype": "text/x-python",
   "name": "python",
   "nbconvert_exporter": "python",
   "pygments_lexer": "ipython3",
   "version": "3.6.9"
  },
  "toc": {
   "base_numbering": 1,
   "nav_menu": {},
   "number_sections": true,
   "sideBar": true,
   "skip_h1_title": false,
   "title_cell": "Table of Contents",
   "title_sidebar": "Contents",
   "toc_cell": false,
   "toc_position": {
    "height": "calc(100% - 180px)",
    "left": "10px",
    "top": "150px",
    "width": "349.091px"
   },
   "toc_section_display": true,
   "toc_window_display": true
  }
 },
 "nbformat": 4,
 "nbformat_minor": 2
}
