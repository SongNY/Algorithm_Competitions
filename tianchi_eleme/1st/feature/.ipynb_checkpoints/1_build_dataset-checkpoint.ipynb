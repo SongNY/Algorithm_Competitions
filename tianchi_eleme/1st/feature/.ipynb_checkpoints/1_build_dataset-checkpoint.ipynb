{
 "cells": [
  {
   "cell_type": "code",
   "execution_count": 1,
   "metadata": {},
   "outputs": [],
   "source": [
    "import pandas as pd\n",
    "import numpy as np\n",
    "import time\n",
    "import datetime\n",
    "import pickle\n",
    "import random"
   ]
  },
  {
   "cell_type": "code",
   "execution_count": 2,
   "metadata": {},
   "outputs": [],
   "source": [
    "import logging\n",
    "LOG_FORMAT = \"%(asctime)s - %(levelname)s - %(message)s\"\n",
    "# logging.basicConfig(level=logging.INFO, filename='log_build_dataset', format=LOG_FORMAT)\n",
    "logging.basicConfig(level=logging.INFO, format=LOG_FORMAT)\n"
   ]
  },
  {
   "cell_type": "code",
   "execution_count": 3,
   "metadata": {},
   "outputs": [],
   "source": [
    "SEED = 0"
   ]
  },
  {
   "cell_type": "markdown",
   "metadata": {},
   "source": [
    "# Read"
   ]
  },
  {
   "cell_type": "code",
   "execution_count": 4,
   "metadata": {},
   "outputs": [
    {
     "data": {
      "text/plain": [
       "1175.2078161239624"
      ]
     },
     "execution_count": 4,
     "metadata": {},
     "output_type": "execute_result"
    }
   ],
   "source": [
    "logging.info('start reading')\n",
    "\n",
    "pickle_path = '../user_data/data_sort_out/train_dataset_mp.pickle'\n",
    "with open(pickle_path, 'rb') as f:\n",
    "    train_dataset_mp = pickle.load(f)\n",
    "key_list_train, mp_action_train, mp_distance_train, mp_order_train = \\\n",
    "train_dataset_mp['key_list'], train_dataset_mp['mp_action'], train_dataset_mp['mp_distance'], train_dataset_mp['mp_order']\n",
    "\n",
    "pickle_path = '../user_data/data_sort_out/testA_dataset_mp.pickle'\n",
    "with open(pickle_path, 'rb') as f:\n",
    "    testA_dataset_mp = pickle.load(f)\n",
    "key_list_testA, mp_action_testA, mp_distance_testA, mp_order_testA = \\\n",
    "testA_dataset_mp['key_list'], testA_dataset_mp['mp_action'], testA_dataset_mp['mp_distance'], testA_dataset_mp['mp_order']\n",
    "\n",
    "pickle_path = '../user_data/data_sort_out/testB_dataset_mp.pickle'\n",
    "with open(pickle_path, 'rb') as f:\n",
    "    testB_dataset_mp = pickle.load(f)\n",
    "key_list_testB, mp_action_testB, mp_distance_testB, mp_order_testB, mp_distance_testB_detail = \\\n",
    "testB_dataset_mp['key_list'], testB_dataset_mp['mp_action'], testB_dataset_mp['mp_distance'], testB_dataset_mp['mp_order'], testB_dataset_mp['mp_distance_detail']\n",
    "logging.info('finish reading')\n",
    "\n",
    "\n"
   ]
  },
  {
   "cell_type": "markdown",
   "metadata": {},
   "source": [
    "key_list_train, mp_action_train, mp_distance_train, mp_order_train\n",
    "\n",
    "key_list_testA, mp_action_testA, mp_distance_testA, mp_order_testA\n",
    "\n",
    "df_actions_train, df_couriers_train, df_distances_train, df_orders_train\n",
    "\n",
    "df_actions_testA, df_couriers_testA, df_distances_testA, df_orders_testA\n"
   ]
  },
  {
   "cell_type": "markdown",
   "metadata": {},
   "source": [
    "# Test"
   ]
  },
  {
   "cell_type": "markdown",
   "metadata": {},
   "source": [
    "## testA"
   ]
  },
  {
   "cell_type": "code",
   "execution_count": 5,
   "metadata": {},
   "outputs": [],
   "source": [
    "from IPython.display import display, HTML\n",
    "def show_df(df):\n",
    "    display(HTML(df.to_html()))"
   ]
  },
  {
   "cell_type": "code",
   "execution_count": 6,
   "metadata": {},
   "outputs": [
    {
     "name": "stderr",
     "output_type": "stream",
     "text": [
      "2020-04-09 14:26:38,584 - INFO - start\n",
      "2020-04-09 14:26:54,433 - INFO - end\n"
     ]
    }
   ],
   "source": [
    "logging.info('start')\n",
    "testA_know_lens, testA_lens, testA_impossible_idxs = [], [], []\n",
    "for (date, courier, wave) in key_list_testA:\n",
    "    df_action = mp_action_testA[date][courier][wave]\n",
    "    testA_lens.append(df_action.shape[0])\n",
    "    df_konw = df_action.query('expect_time != 0')\n",
    "    df_unkonw = df_action.query('expect_time == 0')\n",
    "    testA_know_lens.append(df_konw.shape[0])\n",
    "    impossible_idx = []\n",
    "    konw_tracking_id = set(df_konw['tracking_id'])\n",
    "    for i, idx in enumerate(df_unkonw.index):\n",
    "        if df_unkonw.at[idx, 'tracking_id'] not in konw_tracking_id and df_unkonw.at[idx, 'action_type'] == 'DELIVERY':\n",
    "            impossible_idx.append(i)\n",
    "    testA_impossible_idxs.append(impossible_idx)\n",
    "    \n",
    "logging.info('end')"
   ]
  },
  {
   "cell_type": "code",
   "execution_count": 7,
   "metadata": {},
   "outputs": [
    {
     "data": {
      "text/plain": [
       "{6: array([3, 3, 2, ..., 2, 3, 2]),\n",
       " 8: array([4, 4, 3, 3, 3, 3, 4, 3, 4, 3, 2, 4, 2, 4, 5, 5, 2, 3, 3, 3, 5, 4,\n",
       "        3, 5, 3, 5, 3, 3, 5, 5, 2, 4, 3, 3, 4, 2, 4, 4, 4, 5, 3, 2, 2, 2,\n",
       "        5, 4, 5, 3, 3, 2, 5, 3, 2, 4, 5, 4, 3, 2, 4, 4, 3, 3, 4, 2, 2, 2,\n",
       "        3, 4, 5, 5, 2, 5, 5, 4, 3, 5, 3, 3, 3, 3, 2, 5, 4, 3, 3, 3, 4, 2,\n",
       "        2, 2, 4, 4, 5, 5, 5, 2, 4, 5, 5, 4, 3, 4, 2, 4, 3, 4, 4, 5, 3, 5,\n",
       "        5, 5, 5, 3, 2, 4, 3, 4, 2, 2, 2, 4, 5, 3, 5, 3, 3, 4, 4, 5, 3, 3,\n",
       "        5, 3, 3, 4, 2, 4, 4, 4, 4, 2, 4, 5, 3, 4, 2, 5, 5, 3, 5, 3, 4, 5,\n",
       "        2, 2, 5, 2, 2, 4, 4, 4, 5, 3, 4, 5, 3, 3, 4, 4, 4, 3, 5, 5, 4, 5,\n",
       "        3, 4, 5, 5, 2, 3, 4, 5, 3, 4, 5, 5, 4, 3, 3, 5, 3, 3, 5, 5, 2, 3,\n",
       "        5, 3, 3, 3, 3, 2, 5, 2, 2, 3, 4, 4, 2, 3, 3, 3, 2, 3, 3, 2, 5, 2,\n",
       "        2, 4, 4, 5, 2, 5, 5, 3, 3, 2, 4, 3, 2, 4, 2, 3, 4, 2, 5, 4, 2, 3,\n",
       "        3, 3, 5, 2, 3, 2, 5, 4, 2, 4, 5, 3, 4, 5, 5, 4, 4, 5, 4, 5, 4, 4,\n",
       "        3, 2, 3, 5, 4, 4, 3, 3, 4, 4, 3, 2, 4, 3, 2, 5, 4, 2, 4, 3, 3, 5,\n",
       "        2, 4, 2, 3, 2, 4, 5, 4, 4, 3, 2, 3, 5, 4, 2, 2, 3, 4, 2, 5, 3, 2,\n",
       "        5, 3, 4, 3, 3, 2, 2, 4, 4, 5, 5, 4, 4, 4, 5, 2, 4, 5, 3, 5, 4, 4,\n",
       "        5, 4, 5, 2, 5, 3, 5, 2, 3, 4, 3, 4, 4, 2, 3, 5, 5, 2, 3, 2, 5, 5,\n",
       "        4, 5, 2, 2, 2, 4, 5, 4, 4, 4, 3, 2, 3, 5, 5, 2, 4, 2, 3, 3, 4, 3,\n",
       "        3, 4, 4, 4, 3, 3, 5, 3, 2, 2, 5, 4, 4, 3, 5, 2, 3, 4, 3, 5, 4, 5,\n",
       "        2, 4, 4, 2, 5, 3, 5, 4, 2, 5, 4, 3, 3, 2, 2, 4, 4, 4, 5, 3, 5, 2,\n",
       "        2, 4, 2, 5, 2, 4, 3, 2, 2, 3, 5, 5, 5, 3, 2, 3, 4, 4, 4, 3, 3, 5,\n",
       "        5, 2, 3, 3, 2, 4, 5, 3, 3, 3, 3, 5, 3, 5, 3, 3, 3, 2, 4, 4, 3, 3,\n",
       "        3, 3, 4, 2, 3, 3, 5, 3, 2, 5, 2, 3, 3, 3, 2, 3, 4, 3, 3, 4, 3, 3,\n",
       "        2, 4, 4, 5, 3, 4, 5, 3, 5, 3, 5, 3, 3, 2, 3, 3, 4, 5, 5, 3, 5, 3,\n",
       "        5, 3, 2, 3, 3, 3, 2, 4, 4, 4, 5, 3, 3, 3, 3, 4, 5, 4, 3, 2, 3, 3,\n",
       "        5, 4, 5, 4, 4, 5, 2, 4, 5, 2, 3, 3, 2, 4, 2, 3, 3, 2, 4, 2, 3, 5,\n",
       "        2, 4, 2, 3, 4, 4, 4, 4, 3, 5, 4, 3, 5, 4, 5, 4, 2, 3, 2, 2, 2, 4,\n",
       "        2, 4, 2, 5, 4, 3, 4, 2, 5, 4, 3, 3, 3, 3, 3, 2, 3, 5, 5, 3, 5, 3,\n",
       "        4, 4, 3, 3, 2, 3, 4, 3, 3, 5, 3, 4, 5, 4, 5, 3, 3, 3, 2, 5, 2, 3,\n",
       "        2, 4, 5, 3, 3, 4, 4, 2, 5, 4, 2, 5, 5, 5, 4, 2, 3, 2, 3, 4, 4, 4,\n",
       "        3, 2, 3, 5, 3, 4, 3, 2, 4, 3, 4, 5, 4, 5, 5, 2, 4, 3, 3, 2, 2, 2,\n",
       "        2, 3, 4, 3, 4, 2, 4, 4, 3, 4, 3, 4, 4, 5, 3, 4, 2, 3, 3, 2, 4, 5,\n",
       "        3, 2, 4, 2, 3, 2, 3, 4, 5, 4, 3, 5, 4, 4, 4, 4, 5, 5, 3, 5, 2, 5,\n",
       "        3, 5, 5, 2, 4, 5, 2, 4, 4, 3, 3, 4, 3, 5, 5, 3, 3, 2, 3, 4, 3, 2,\n",
       "        3, 5, 4, 3, 4, 4, 2, 4, 3, 2, 5, 4, 3, 3, 4, 2, 2, 4, 4, 5, 4, 4,\n",
       "        4, 4, 3, 4, 4, 4, 3, 4, 3, 3, 5, 3, 5, 4, 3, 4, 4, 3, 4, 2, 3, 5,\n",
       "        2, 4, 2, 4, 5, 3, 4, 5, 3, 4, 4, 2, 4, 4, 3, 4, 5, 3, 5, 5, 4, 5,\n",
       "        5, 4, 3, 5, 3, 4, 3, 2, 3, 3, 4, 4, 5, 5, 5, 3, 4, 4, 5, 4, 5, 4,\n",
       "        5, 2, 2, 3, 3, 5, 4, 2, 5, 5, 3, 3, 4, 4, 2, 3, 3, 3, 4, 5, 4, 5,\n",
       "        4, 3, 4, 4, 4, 2, 5, 5, 3, 2, 2, 3, 5, 2, 2, 5, 5, 5, 5, 5, 4, 4,\n",
       "        5, 3, 3, 3, 3, 4, 3, 2, 4, 3, 4, 3, 3, 3, 3, 2, 3, 5, 4, 2, 3, 3,\n",
       "        5, 2, 4, 3, 4, 4, 2, 3, 2, 4, 3, 3, 3, 4, 4, 2, 4, 4, 3, 2, 2, 3,\n",
       "        5, 2, 4, 4, 3, 4, 3, 3, 3, 2, 3, 3, 2, 4, 3, 5, 3, 5, 5, 5, 3, 2,\n",
       "        4, 4, 4, 4, 2, 5, 4, 2, 4, 3, 5, 3, 3, 2, 3, 2, 5, 4, 4, 5, 3, 4,\n",
       "        2, 5, 5, 5, 4, 4, 4, 3, 5, 3, 2, 4, 2, 4, 4, 5, 3, 4, 3, 3, 3, 2,\n",
       "        2, 3, 4, 4, 2, 4, 4, 3, 2, 3, 3, 2, 4, 4, 2, 4, 4, 5, 3, 3]),\n",
       " 10: array([2, 7, 4, 6, 3, 7, 7, 5, 2, 3, 7, 6, 2, 5, 7, 6, 6, 5, 5, 7, 6, 6,\n",
       "        6, 6, 2, 6, 5, 3, 5, 4, 4, 4, 3, 4, 2, 5, 2, 4, 4, 4, 2, 7, 5, 5,\n",
       "        5, 5, 5, 7, 5, 5, 6, 3, 6, 7, 7, 3, 7, 5, 4, 6, 3, 4, 4, 5, 6, 5,\n",
       "        4, 6, 7, 4, 5, 4, 3, 2, 4, 5, 6, 5, 5, 5, 3, 3, 7, 5, 5, 4, 6, 4,\n",
       "        7, 5, 5, 5, 6, 5, 5, 5, 3, 2, 6, 3, 7, 6, 6, 5, 6, 5, 4, 3, 6, 4,\n",
       "        7, 7, 7, 5, 5, 3, 3, 6, 5, 3, 5, 4, 3, 7, 7, 5, 5, 5, 5, 7, 7, 6,\n",
       "        3, 4, 7, 5, 5, 3, 6, 4, 3, 5, 6, 6, 7, 2, 3, 3, 5, 7, 3, 5, 6, 4,\n",
       "        7, 7, 6, 5, 7, 6, 6, 4, 2, 3, 4, 5, 4, 2, 2, 4, 7, 6, 7, 6, 5, 5,\n",
       "        2, 5, 2, 3, 6, 5, 3, 6, 5, 6, 6, 5, 3, 2, 4, 6, 5, 5, 3, 4, 5, 7,\n",
       "        7, 5, 2, 5, 5, 7, 4, 5, 2, 6, 6, 5, 2, 5, 7, 6, 4, 7, 7, 3, 5, 5,\n",
       "        6, 4, 7, 2, 2, 7, 6, 5, 3, 5, 2, 5, 4, 6, 4, 4, 6, 6, 3, 4, 5, 6,\n",
       "        4, 6, 5, 4, 2, 4, 6, 6, 5, 5, 5, 6, 5, 6, 6, 5, 3, 7, 7, 3, 5, 6,\n",
       "        6, 3, 7, 5, 4, 4, 4, 3, 5, 5, 6, 4, 2, 6, 6, 6, 6, 2, 6, 6, 6, 6,\n",
       "        3, 4, 5, 5, 3, 4, 4, 6, 3, 5, 2, 6, 3, 5, 5, 5, 6, 4, 5, 5, 6, 4,\n",
       "        5, 5, 5, 5, 4, 2, 6, 3, 5, 5, 5, 4, 5, 5, 6, 5, 4, 6, 7, 6, 5, 6,\n",
       "        6, 2, 7, 5, 3, 6, 7, 6, 6, 2, 3, 4, 7, 3, 6, 3, 7, 3, 3, 2, 4, 6,\n",
       "        4, 5, 6, 5, 2, 5, 6, 5, 5, 7, 5, 6, 6, 7, 5, 5, 5, 5, 5, 3, 2, 5,\n",
       "        7, 6, 5, 7, 4, 2, 3, 3, 2, 5, 6, 6, 4, 7, 5, 4, 6, 6, 7, 6, 3, 3,\n",
       "        6, 7, 5, 4, 6, 3, 3, 4, 4, 5, 4, 5, 2, 6, 6, 4, 5, 5, 7, 6, 4, 2,\n",
       "        2, 4, 5, 7, 6, 4, 7, 6, 7, 6, 2, 7, 6, 4, 2, 2, 4, 3, 2, 5, 4, 7,\n",
       "        5, 6, 2, 7, 7, 5, 5, 4, 6, 7, 5, 3, 4, 2, 4, 6, 7, 4, 5, 6, 4, 6,\n",
       "        5, 3, 2, 5, 5, 4, 4, 4, 3, 4, 5, 2, 6, 2, 7, 6, 6, 5, 4, 3, 6, 2,\n",
       "        6, 6, 3, 6, 7, 4, 5, 4, 6, 4, 7, 6, 6, 7, 7, 2, 7, 6, 5, 5, 7, 7,\n",
       "        5, 4, 4, 3, 7, 5, 3, 6, 6, 2, 2, 3, 5, 5, 3, 5, 3, 7, 5, 7, 7, 4,\n",
       "        2, 6, 4, 6, 4, 6, 2, 7, 6, 6, 5, 6, 6, 4, 5, 2, 3, 5, 4, 5, 5, 3,\n",
       "        7, 6, 2, 4, 4, 5, 5, 6, 3, 6, 6, 4, 4, 5, 4]),\n",
       " 12: array([2, 5, 8, 6, 8, 9, 8, 6, 8, 7, 5, 8, 5, 2, 7, 4, 3, 2, 5, 9, 7, 8,\n",
       "        3, 2, 8, 9, 8, 3, 3, 4, 7, 7, 6, 7, 7, 8, 7, 4, 7, 7, 9, 9, 3, 4,\n",
       "        6, 6, 8, 8, 8, 7, 6, 9, 7, 5, 5, 5, 7, 4, 7, 7, 6, 3, 5, 9, 7, 4,\n",
       "        7, 5, 7, 7, 5, 5, 9, 8, 9, 5, 8, 5, 3, 8, 4, 4, 9, 7, 8, 6, 3, 8,\n",
       "        7, 2, 4, 6, 7, 2, 6, 5, 7, 5, 7, 7, 7, 6, 9, 7, 9, 9, 6, 8, 6, 6,\n",
       "        7, 9, 7, 7, 6, 4, 7, 6, 3, 5, 5, 8, 7, 7, 8, 2, 9, 8, 7, 5, 3, 8,\n",
       "        5, 5, 7, 5, 6, 6, 6, 5, 5, 4, 8, 2, 7, 5, 2, 5, 4, 6, 6, 8, 5, 4,\n",
       "        5, 4, 5, 8, 7, 9, 7, 8, 7, 7, 2, 7, 9, 8, 5, 9, 7, 6, 7, 5, 5, 5,\n",
       "        8, 6, 7, 6, 7, 7, 8, 6, 9, 5, 7, 8, 8, 6, 6, 2, 6, 7, 2, 7, 5, 9,\n",
       "        8, 5, 8, 8, 5, 9, 6, 7, 5, 8, 9, 8, 8, 6, 7, 7, 5, 4, 6, 6, 7, 9,\n",
       "        2, 6, 7, 5, 2, 9, 8, 7, 6, 5, 5, 9, 6, 3, 8, 7, 5, 6, 5, 9, 7, 7,\n",
       "        3, 2, 8, 7, 6, 6, 4, 6, 4, 6, 3, 7, 5, 4, 2, 6, 7, 2, 5, 7, 6, 2,\n",
       "        8, 7, 3, 6, 5, 6, 8, 7, 9, 6, 5, 7, 4, 4, 9, 8, 3, 7, 2, 5, 9, 5,\n",
       "        8, 6, 3, 3, 7, 8, 9, 3, 3, 6, 5, 8, 8, 5, 8, 7, 9, 7, 9]),\n",
       " 14: array([ 9,  2, 10, 10,  5, 11,  4,  8,  9,  6, 11, 11,  3, 10,  8, 11,  5,\n",
       "         9,  9,  6, 10,  6, 11, 10, 10,  7,  7,  7,  8,  9, 10, 10,  3,  8,\n",
       "         8,  3,  4,  7,  5,  7, 11, 11, 10,  6, 11,  5,  7, 10,  4,  8,  3,\n",
       "         6,  9,  7,  9, 10, 10, 10, 11,  7,  4, 10,  7,  8,  8,  3,  9,  8,\n",
       "         8, 10,  3,  5,  7,  8,  6,  9,  7, 10,  8,  6,  8,  6,  6,  7,  8,\n",
       "         7, 11,  6,  5, 11,  7, 10,  8,  7, 10, 11,  6, 11, 10,  9, 10, 10,\n",
       "         7, 10,  7,  6,  9,  5,  3,  6, 10,  9,  6, 10,  7,  9,  3,  7,  8,\n",
       "        10,  2,  5,  7,  7,  8,  4,  6,  5,  5,  5,  3, 11,  4,  8,  8,  5,\n",
       "         7,  6,  6, 11,  5, 10,  7,  4, 10, 10,  7,  7, 11,  6,  6, 10,  7,\n",
       "         9,  3,  4, 11, 10,  7, 10,  6,  7,  9,  6, 10,  5,  7,  8, 11,  6,\n",
       "        11,  8,  4, 11,  6,  9, 11,  9,  5,  7,  6, 10,  7,  9, 10,  6,  6,\n",
       "         9, 11,  8,  5,  3, 10]),\n",
       " 16: array([ 7,  8,  7,  9, 12,  4, 12, 11, 12, 13, 10,  6, 13, 13, 11, 12, 12,\n",
       "        13,  2,  2,  7,  5,  5, 13, 12,  5,  8,  3,  9, 10,  7, 11, 13, 10,\n",
       "        12, 12,  8, 12, 11,  5,  7,  9, 11,  9,  8, 11, 10, 10,  8, 11,  9,\n",
       "         5, 12, 12, 10,  8,  9,  3, 13,  8,  7,  7, 11, 11,  2,  8, 12, 11,\n",
       "        11, 12, 13,  8, 11,  2,  7, 13, 11, 11,  5, 12,  9, 11, 10,  7,  9,\n",
       "         9, 13, 12, 10,  5,  5, 11,  7, 11,  5,  8, 12,  9,  9, 10, 10, 11,\n",
       "         7, 12,  9,  6,  7, 11,  6, 10, 12,  6,  9,  6, 13,  7, 12,  3,  8,\n",
       "        11, 10, 11, 12, 10,  4, 11, 12,  7, 11]),\n",
       " 18: array([14, 13,  7, 11,  3,  9, 10,  7, 15, 14,  2, 12, 11, 13, 12,  8, 15,\n",
       "        13, 14,  5, 10, 15,  3,  9, 13,  7, 14, 13,  5, 12, 13, 11, 10,  6,\n",
       "        10, 14, 15, 10, 10,  7,  2, 14, 13, 13, 11, 11, 14, 11, 10, 14, 14,\n",
       "        12, 10, 11, 12, 10,  8, 10, 14, 11, 12, 10, 12, 13, 12,  8, 12, 13,\n",
       "        14, 14, 13, 11, 13, 12, 15, 10, 15, 11, 14, 10, 10, 13, 13, 12, 13,\n",
       "        14, 14, 13, 14, 14, 11, 14]),\n",
       " 20: array([16, 13, 11,  4, 13, 15, 14, 16, 14,  9, 16, 14, 12, 15, 14, 13, 15,\n",
       "        12, 16, 11, 14, 15, 16, 12, 12, 16, 16, 12, 10, 10, 16, 10, 14, 14,\n",
       "        15, 16, 16,  7, 14, 14, 11, 13, 15,  8, 16, 10, 16, 13, 14, 15, 15,\n",
       "         2, 16,  7, 14]),\n",
       " 22: array([11, 10, 16, 18, 19, 18, 13,  9, 15, 18, 13, 18, 19, 18, 19, 13, 19,\n",
       "        17, 19, 16, 18, 17, 15, 13, 17, 14,  3, 18, 16, 18, 19, 18, 12, 16,\n",
       "        15, 15, 18, 17]),\n",
       " 24: array([19, 20, 13, 16, 19, 16, 20, 12, 17, 18, 20, 16, 17, 21]),\n",
       " 26: array([22, 17, 21, 21, 21, 22, 22, 22, 22, 17, 14, 20, 22,  6, 21]),\n",
       " 28: array([22, 21, 23, 18, 15, 19, 17, 24, 16, 22, 23, 22]),\n",
       " 30: array([26, 23, 26, 25])}"
      ]
     },
     "execution_count": 7,
     "metadata": {},
     "output_type": "execute_result"
    }
   ],
   "source": [
    "df_testA_info = pd.DataFrame()\n",
    "df_testA_info['know_lens'] = testA_know_lens\n",
    "df_testA_info['lens'] = testA_lens\n",
    "df_testA_info['impossible_idxs'] = testA_impossible_idxs\n",
    "se_testA_lens_know_lens = df_testA_info.groupby('lens').apply(lambda x : x['know_lens'].values)\n",
    "mp_test_lens_know_lens = se_testA_lens_know_lens.to_dict()\n",
    "mp_test_lens_know_lens"
   ]
  },
  {
   "cell_type": "markdown",
   "metadata": {},
   "source": [
    "## testB"
   ]
  },
  {
   "cell_type": "code",
   "execution_count": 5,
   "metadata": {},
   "outputs": [
    {
     "name": "stderr",
     "output_type": "stream",
     "text": [
      "2020-04-13 21:27:54,378 - INFO - start\n",
      "2020-04-13 21:28:14,006 - INFO - end\n"
     ]
    }
   ],
   "source": [
    "logging.info('start')\n",
    "testB_know_lens, testB_lens, testB_impossible_idxs = [], [], []\n",
    "for (date, courier, wave) in key_list_testB:\n",
    "    df_action = mp_action_testB[date][courier][wave]\n",
    "    testB_lens.append(df_action.shape[0])\n",
    "    df_konw = df_action.query('expect_time != 0')\n",
    "    df_unkonw = df_action.query('expect_time == 0')\n",
    "    testB_know_lens.append(df_konw.shape[0])\n",
    "    impossible_idx = []\n",
    "    konw_tracking_id = set(df_konw['tracking_id'])\n",
    "    for i, idx in enumerate(df_unkonw.index):\n",
    "        if df_unkonw.at[idx, 'tracking_id'] not in konw_tracking_id and df_unkonw.at[idx, 'action_type'] == 'DELIVERY':\n",
    "            impossible_idx.append(i)\n",
    "    testB_impossible_idxs.append(impossible_idx)\n",
    "    \n",
    "logging.info('end')"
   ]
  },
  {
   "cell_type": "code",
   "execution_count": 6,
   "metadata": {},
   "outputs": [],
   "source": [
    "df_testB_info = pd.DataFrame()\n",
    "df_testB_info['know_lens'] = testB_know_lens\n",
    "df_testB_info['lens'] = testB_lens\n",
    "df_testB_info['impossible_idxs'] = testB_impossible_idxs\n"
   ]
  },
  {
   "cell_type": "markdown",
   "metadata": {},
   "source": [
    "# Train"
   ]
  },
  {
   "cell_type": "code",
   "execution_count": 35,
   "metadata": {
    "scrolled": false
   },
   "outputs": [
    {
     "name": "stderr",
     "output_type": "stream",
     "text": [
      "2020-04-09 15:29:46,428 - INFO - start train\n",
      "2020-04-09 15:33:38,496 - INFO - end train\n"
     ]
    }
   ],
   "source": [
    "logging.info('start train')\n",
    "train_know_lens, train_lens, train_impossible_idxs = [], [], []\n",
    "know_lens_list, list_impossible_dict = [], []\n",
    "for i, (date, courier, wave) in enumerate(key_list_train):\n",
    "    df_action = mp_action_train[date][courier][wave]\n",
    "    \n",
    "    train_len = df_action.shape[0]\n",
    "    train_lens.append(train_len)\n",
    "    \n",
    "    train_know_len = None\n",
    "    \n",
    "    if train_len in mp_test_lens_know_lens:\n",
    "        know_set = sorted(list(set(mp_test_lens_know_lens[train_len])))\n",
    "        np.random.seed(i)        \n",
    "        train_know_len = np.random.choice(know_set, size =1)[0]\n",
    "    else:\n",
    "        know_set = [2,]\n",
    "        train_know_len = train_len / 2\n",
    "    \n",
    "\n",
    "    impossible_dict = {}\n",
    "    for know_len in know_set:\n",
    "        impossible_set = set()\n",
    "        df_action_unknow = df_action.iloc[know_len: ]\n",
    "        konw_tracking_id = set(df_action.iloc[: know_len].tracking_id)\n",
    "        for i, idx in enumerate(df_action_unknow.index):\n",
    "            if df_action_unknow.at[idx, 'tracking_id'] not in konw_tracking_id and\\\n",
    "            df_action_unknow.at[idx, 'action_type'] == 'DELIVERY':\n",
    "                impossible_set.add(i)\n",
    "        impossible_dict[know_len] = impossible_set\n",
    "    \n",
    "    know_lens_list.append(know_set)\n",
    "    list_impossible_dict.append(impossible_dict)\n",
    "    train_know_lens.append(int(train_know_len))\n",
    "    \n",
    "    train_know_len = int(train_know_len)\n",
    "    \n",
    "    df_konw = df_action.iloc[:train_know_len]\n",
    "    df_unkonw = df_action.iloc[train_know_len:]\n",
    "    \n",
    "    impossible_idx = []\n",
    "    konw_tracking_id = set(df_konw['tracking_id'])\n",
    "    for i, idx in enumerate(df_unkonw.index):\n",
    "        if df_unkonw.at[idx, 'tracking_id'] not in konw_tracking_id and df_unkonw.at[idx, 'action_type'] == 'DELIVERY':\n",
    "            impossible_idx.append(i)\n",
    "    train_impossible_idxs.append(impossible_idx)\n",
    "logging.info('end train')\n"
   ]
  },
  {
   "cell_type": "code",
   "execution_count": 36,
   "metadata": {},
   "outputs": [],
   "source": [
    "df_train_info = pd.DataFrame()\n",
    "df_train_info['know_lens'] = train_know_lens\n",
    "df_train_info['lens'] = train_lens\n",
    "df_train_info['impossible_idxs'] = train_impossible_idxs\n",
    "df_train_info['know_lens_list'] = know_lens_list\n",
    "df_train_info['impossible_idxs_list'] = list_impossible_dict\n"
   ]
  },
  {
   "cell_type": "markdown",
   "metadata": {},
   "source": [
    "# Pickle"
   ]
  },
  {
   "cell_type": "code",
   "execution_count": 10,
   "metadata": {},
   "outputs": [],
   "source": [
    "import pickle\n",
    "PICKLE_PATH = '../user_data/build_dataset'"
   ]
  },
  {
   "cell_type": "code",
   "execution_count": 9,
   "metadata": {},
   "outputs": [
    {
     "ename": "NameError",
     "evalue": "name 'PICKLE_PATH' is not defined",
     "output_type": "error",
     "traceback": [
      "\u001b[0;31m---------------------------------------------------------------------------\u001b[0m",
      "\u001b[0;31mNameError\u001b[0m                                 Traceback (most recent call last)",
      "\u001b[0;32m<ipython-input-9-2cc74679ce79>\u001b[0m in \u001b[0;36m<module>\u001b[0;34m\u001b[0m\n\u001b[0;32m----> 1\u001b[0;31m \u001b[0;32mwith\u001b[0m \u001b[0mopen\u001b[0m\u001b[0;34m(\u001b[0m\u001b[0;34m'%s/df_train_info.pickle'\u001b[0m\u001b[0;34m%\u001b[0m\u001b[0;34m(\u001b[0m\u001b[0mPICKLE_PATH\u001b[0m\u001b[0;34m)\u001b[0m\u001b[0;34m,\u001b[0m \u001b[0;34m'wb'\u001b[0m\u001b[0;34m)\u001b[0m \u001b[0;32mas\u001b[0m \u001b[0mf\u001b[0m\u001b[0;34m:\u001b[0m\u001b[0;34m\u001b[0m\u001b[0;34m\u001b[0m\u001b[0m\n\u001b[0m\u001b[1;32m      2\u001b[0m     \u001b[0mpickle\u001b[0m\u001b[0;34m.\u001b[0m\u001b[0mdump\u001b[0m\u001b[0;34m(\u001b[0m\u001b[0mdf_train_info\u001b[0m\u001b[0;34m,\u001b[0m \u001b[0mf\u001b[0m\u001b[0;34m)\u001b[0m\u001b[0;34m\u001b[0m\u001b[0;34m\u001b[0m\u001b[0m\n\u001b[1;32m      3\u001b[0m \u001b[0;32mwith\u001b[0m \u001b[0mopen\u001b[0m\u001b[0;34m(\u001b[0m\u001b[0;34m'%s/df_testA_info.pickle'\u001b[0m\u001b[0;34m%\u001b[0m\u001b[0;34m(\u001b[0m\u001b[0mPICKLE_PATH\u001b[0m\u001b[0;34m)\u001b[0m\u001b[0;34m,\u001b[0m \u001b[0;34m'wb'\u001b[0m\u001b[0;34m)\u001b[0m \u001b[0;32mas\u001b[0m \u001b[0mf\u001b[0m\u001b[0;34m:\u001b[0m\u001b[0;34m\u001b[0m\u001b[0;34m\u001b[0m\u001b[0m\n\u001b[1;32m      4\u001b[0m     \u001b[0mpickle\u001b[0m\u001b[0;34m.\u001b[0m\u001b[0mdump\u001b[0m\u001b[0;34m(\u001b[0m\u001b[0mdf_testA_info\u001b[0m\u001b[0;34m,\u001b[0m \u001b[0mf\u001b[0m\u001b[0;34m)\u001b[0m\u001b[0;34m\u001b[0m\u001b[0;34m\u001b[0m\u001b[0m\n",
      "\u001b[0;31mNameError\u001b[0m: name 'PICKLE_PATH' is not defined"
     ]
    }
   ],
   "source": [
    "with open('%s/df_train_info.pickle'%(PICKLE_PATH), 'wb') as f:\n",
    "    pickle.dump(df_train_info, f)\n",
    "with open('%s/df_testA_info.pickle'%(PICKLE_PATH), 'wb') as f:\n",
    "    pickle.dump(df_testA_info, f)"
   ]
  },
  {
   "cell_type": "code",
   "execution_count": 39,
   "metadata": {},
   "outputs": [],
   "source": [
    "with open('%s/key_list_train.pickle'%(PICKLE_PATH), 'wb') as f:\n",
    "    pickle.dump(key_list_train, f)\n",
    "with open('%s/key_list_testA.pickle'%(PICKLE_PATH), 'wb') as f:\n",
    "    pickle.dump(key_list_testA, f)"
   ]
  },
  {
   "cell_type": "code",
   "execution_count": 11,
   "metadata": {},
   "outputs": [],
   "source": [
    "with open('%s/df_testB_info.pickle'%(PICKLE_PATH), 'wb') as f:\n",
    "    pickle.dump(df_testB_info, f)"
   ]
  },
  {
   "cell_type": "code",
   "execution_count": null,
   "metadata": {},
   "outputs": [],
   "source": []
  }
 ],
 "metadata": {
  "kernelspec": {
   "display_name": "Python(hyr)\n",
   "language": "python",
   "name": "hyr"
  },
  "language_info": {
   "codemirror_mode": {
    "name": "ipython",
    "version": 3
   },
   "file_extension": ".py",
   "mimetype": "text/x-python",
   "name": "python",
   "nbconvert_exporter": "python",
   "pygments_lexer": "ipython3",
   "version": "3.6.9"
  },
  "toc": {
   "base_numbering": 1,
   "nav_menu": {},
   "number_sections": true,
   "sideBar": true,
   "skip_h1_title": false,
   "title_cell": "Table of Contents",
   "title_sidebar": "Contents",
   "toc_cell": false,
   "toc_position": {
    "height": "calc(100% - 180px)",
    "left": "10px",
    "top": "150px",
    "width": "343.082px"
   },
   "toc_section_display": true,
   "toc_window_display": true
  }
 },
 "nbformat": 4,
 "nbformat_minor": 2
}
