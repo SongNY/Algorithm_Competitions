{
 "cells": [
  {
   "cell_type": "code",
   "execution_count": null,
   "metadata": {},
   "outputs": [],
   "source": [
    "# -*- coding: utf-8 -*-\n",
    "import pandas as pd\n",
    "import numpy as np\n",
    "import lightgbm as lgb\n",
    "from sklearn.model_selection import KFold, StratifiedKFold\n",
    "from sklearn.utils import shuffle\n",
    "import matplotlib.pyplot as plt\n",
    "\n",
    "xgb = pd.read_csv('F:/xgb.csv')\n",
    "lgb = pd.read_csv('F:/lgb.csv')\n",
    "xgb2 = pd.read_csv('F:/xgb2.csv')\n",
    "#ctb = pd.read_csv('F:/ctb.csv')\n",
    "sub = pd.DataFrame()\n",
    "sub['id'] = xgb['id']\n",
    "sub['target'] = lgb['target']*0.06 + xgb['target']*0.09 + xgb2['target'] *0.85  \n",
    "sub.to_csv('F:/submission.csv',index=False)"
   ]
  }
 ],
 "metadata": {
  "kernelspec": {
   "display_name": "Python 3",
   "language": "python",
   "name": "python3"
  },
  "language_info": {
   "codemirror_mode": {
    "name": "ipython",
    "version": 3
   },
   "file_extension": ".py",
   "mimetype": "text/x-python",
   "name": "python",
   "nbconvert_exporter": "python",
   "pygments_lexer": "ipython3",
   "version": "3.6.4"
  }
 },
 "nbformat": 4,
 "nbformat_minor": 2
}
